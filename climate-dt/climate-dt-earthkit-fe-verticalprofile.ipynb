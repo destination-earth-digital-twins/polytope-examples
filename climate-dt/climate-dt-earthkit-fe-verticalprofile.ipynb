{
 "cells": [
  {
   "cell_type": "markdown",
   "id": "089adc3f-943e-4b49-bc45-9e11c737b579",
   "metadata": {},
   "source": [
    "## Polytope Climate-DT Feature Extraction Vertical Profile example notebook\n",
    "\n",
    "This notebook shows how to use earthkit-data and earthkit-plots to pull destination-earth data from LUMI and plot it using earthkit-plots.\n",
    "\n",
    "\n",
    "Before running the notebook you need to set up your credentials. See the main readme of this repository for different ways to do this or use the following cells to authenticate.\n",
    "\n",
    "You will need to generate your credentials using the desp-authentication.py script.\n",
    "\n",
    "This can be run as follows:"
   ]
  },
  {
   "cell_type": "code",
   "execution_count": null,
   "id": "690284b8-914f-4615-9f10-d64bc0a41dfe",
   "metadata": {},
   "outputs": [],
   "source": [
    "!python3 ~/polytope-examples/desp-authentication.py -u <user_name> -p <password>"
   ]
  },
  {
   "cell_type": "markdown",
   "id": "5ac38420-9c94-464f-990a-bf8166004218",
   "metadata": {},
   "source": [
    "This will generate a token that can then be used by earthkit and polytope.\n",
    "\n",
    "You can also run the script without arguments to enter your username and password."
   ]
  },
  {
   "cell_type": "code",
   "execution_count": null,
   "id": "26249986",
   "metadata": {},
   "outputs": [],
   "source": [
    "!python3 ~/polytope-examples/desp-authentication.py "
   ]
  },
  {
   "cell_type": "markdown",
   "id": "a44eafad-eb93-475f-9824-521473c00bb7",
   "metadata": {},
   "source": [
    "# Requirements\n",
    "To run this notebook install the following:\n",
    "* pip install earthkit-data\n",
    "* pip install earthkit-plots\n",
    "* pip install cf-units         (Optional for unit conversion in maps)"
   ]
  },
  {
   "cell_type": "code",
   "execution_count": 1,
   "id": "b2827834-1bcf-4958-83b4-c3a6b9a70275",
   "metadata": {},
   "outputs": [
    {
     "name": "stderr",
     "output_type": "stream",
     "text": [
      "2025-02-10 13:02:19 - INFO - Key read from /home/maaw/.polytopeapirc\n",
      "2025-02-10 13:02:19 - INFO - Sending request...\n",
      "{'request': 'activity: scenariomip\\n'\n",
      "            'class: d1\\n'\n",
      "            'dataset: climate-dt\\n'\n",
      "            \"date: '20210101'\\n\"\n",
      "            'experiment: ssp3-7.0\\n'\n",
      "            \"expver: '0001'\\n\"\n",
      "            'feature:\\n'\n",
      "            '  points:\\n'\n",
      "            '  - - 38.9\\n'\n",
      "            '    - -9.1\\n'\n",
      "            '  type: verticalprofile\\n'\n",
      "            \"generation: '1'\\n\"\n",
      "            'levelist: 1/to/1000\\n'\n",
      "            'levtype: pl\\n'\n",
      "            'model: ifs-nemo\\n'\n",
      "            \"param: '60'\\n\"\n",
      "            \"realization: '1'\\n\"\n",
      "            'resolution: high\\n'\n",
      "            'stream: clte\\n'\n",
      "            \"time: '0000'\\n\"\n",
      "            'type: fc\\n',\n",
      " 'verb': 'retrieve'}\n",
      "2025-02-10 13:02:19 - INFO - Polytope user key found in session cache for user maaw\n",
      "2025-02-10 13:02:20 - INFO - Request accepted. Please poll ./a4a2d7e5-f759-4513-8605-e8e62152f13d for status\n",
      "2025-02-10 13:02:20 - INFO - Polytope user key found in session cache for user maaw\n",
      "2025-02-10 13:02:20 - INFO - Checking request status (./a4a2d7e5-f759-4513-8605-e8e62152f13d)...\n",
      "2025-02-10 13:02:20 - INFO - The current status of the request is 'queued'\n",
      "2025-02-10 13:02:21 - INFO - The current status of the request is 'processing'\n",
      "2025-02-10 13:02:25 - INFO - The current status of the request is 'processed'\n"
     ]
    },
    {
     "data": {
      "application/vnd.jupyter.widget-view+json": {
       "model_id": "f37c54450c1a4ddd834becc1aff83cef",
       "version_major": 2,
       "version_minor": 0
      },
      "text/plain": [
       "a4a2d7e5-f759-4513-8605-e8e62152f13d.covjson:   0%|          | 0.00/1.71k [00:00<?, ?B/s]"
      ]
     },
     "metadata": {},
     "output_type": "display_data"
    }
   ],
   "source": [
    "import earthkit.data\n",
    "import earthkit.regrid\n",
    "\n",
    "request = {\n",
    "            \"activity\": \"scenariomip\",\n",
    "            \"class\": \"d1\",\n",
    "            \"dataset\": \"climate-dt\",\n",
    "            \"experiment\": \"ssp3-7.0\",\n",
    "            \"generation\": \"1\",\n",
    "            \"levtype\": \"pl\",\n",
    "            \"date\": \"20210101\",\n",
    "            \"model\": \"ifs-nemo\",\n",
    "            \"expver\": \"0001\",\n",
    "            \"param\": \"60\",\n",
    "            \"realization\": \"1\",\n",
    "            \"resolution\": \"high\",\n",
    "            \"stream\": \"clte\",\n",
    "            \"type\": \"fc\",\n",
    "            \"time\": \"0000\",\n",
    "            \"levelist\": \"1/to/1000\",\n",
    "            \"feature\": {\n",
    "                \"type\": \"verticalprofile\",\n",
    "                \"points\": [[38.9, -9.1]],\n",
    "            },\n",
    "        }\n",
    "\n",
    "#data is an earthkit streaming object but with stream=False will download data immediately \n",
    "ds = earthkit.data.from_source(\"polytope\", \"destination-earth\", request, stream=False, address='polytope.lumi.apps.dte.destination-earth.eu')\n"
   ]
  },
  {
   "cell_type": "code",
   "execution_count": null,
   "id": "15045c6d-5244-4ce8-b921-31cb243e0f12",
   "metadata": {},
   "outputs": [],
   "source": [
    "ds._json()"
   ]
  },
  {
   "cell_type": "code",
   "execution_count": null,
   "id": "0c76470c-e897-4747-a56d-c7c786676b52",
   "metadata": {},
   "outputs": [],
   "source": [
    "# Convert data to xarray\n",
    "ds.to_xarray()"
   ]
  },
  {
   "cell_type": "code",
   "execution_count": null,
   "id": "1980070f",
   "metadata": {},
   "outputs": [],
   "source": [
    "da = ds.to_xarray()\n",
    "from earthkit.plots.interactive import Chart\n",
    "chart = Chart()\n",
    "fig = chart.fig\n",
    "fig['layout']['yaxis']['autorange'] = \"reversed\"\n",
    "chart.line(ds, y=\"z\")\n",
    "chart.fig.update_layout(yaxis={\"title\": \"hPa\"})\n",
    "chart.title(\"Vertical profile over Lisbon from the DestinE's Climate DT\")\n",
    "chart.show()"
   ]
  },
  {
   "cell_type": "code",
   "execution_count": null,
   "id": "6a578f47",
   "metadata": {},
   "outputs": [],
   "source": []
  }
 ],
 "metadata": {
  "kernelspec": {
   "display_name": "Python 3",
   "language": "python",
   "name": "python3"
  },
  "language_info": {
   "codemirror_mode": {
    "name": "ipython",
    "version": 3
   },
   "file_extension": ".py",
   "mimetype": "text/x-python",
   "name": "python",
   "nbconvert_exporter": "python",
   "pygments_lexer": "ipython3",
   "version": "3.11.8"
  }
 },
 "nbformat": 4,
 "nbformat_minor": 5
}
