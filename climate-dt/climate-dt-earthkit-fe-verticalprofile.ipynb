{
 "cells": [
  {
   "cell_type": "markdown",
   "id": "089adc3f-943e-4b49-bc45-9e11c737b579",
   "metadata": {},
   "source": [
    "## Polytope Climate-DT Feature Extraction Vertical Profile example notebook\n",
    "\n",
    "This notebook shows how to use earthkit-data and earthkit-plots to pull destination-earth data from LUMI and plot it using earthkit-plots.\n",
    "\n",
    "\n",
    "Before running the notebook you need to set up your credentials. See the main readme of this repository for different ways to do this or use the following cells to authenticate.\n",
    "\n",
    "You will need to generate your credentials using the desp-authentication.py script.\n",
    "\n",
    "This can be run as follows:"
   ]
  },
  {
   "cell_type": "code",
   "execution_count": 9,
   "id": "690284b8-914f-4615-9f10-d64bc0a41dfe",
   "metadata": {
    "tags": [
     "skip-execution"
    ]
   },
   "outputs": [
    {
     "ename": "Exception",
     "evalue": "Invalid username or password.",
     "output_type": "error",
     "traceback": [
      "\u001b[31m---------------------------------------------------------------------------\u001b[39m",
      "\u001b[31mException\u001b[39m                                 Traceback (most recent call last)",
      "\u001b[36mFile \u001b[39m\u001b[32m~/Documents/polytope-examples/desp-authentication.py:82\u001b[39m\n\u001b[32m     76\u001b[39m     error_message_element = tree.xpath(\u001b[33m'\u001b[39m\u001b[33m//span[@id=\u001b[39m\u001b[33m\"\u001b[39m\u001b[33minput-error\u001b[39m\u001b[33m\"\u001b[39m\u001b[33m]/text()\u001b[39m\u001b[33m'\u001b[39m)\n\u001b[32m     77\u001b[39m     error_message = (\n\u001b[32m     78\u001b[39m         error_message_element[\u001b[32m0\u001b[39m].strip()\n\u001b[32m     79\u001b[39m         \u001b[38;5;28;01mif\u001b[39;00m error_message_element\n\u001b[32m     80\u001b[39m         \u001b[38;5;28;01melse\u001b[39;00m \u001b[33m\"\u001b[39m\u001b[33mError message not found\u001b[39m\u001b[33m\"\u001b[39m\n\u001b[32m     81\u001b[39m     )\n\u001b[32m---> \u001b[39m\u001b[32m82\u001b[39m     \u001b[38;5;28;01mraise\u001b[39;00m \u001b[38;5;167;01mException\u001b[39;00m(error_message)\n\u001b[32m     84\u001b[39m \u001b[38;5;28;01mif\u001b[39;00m login.status_code != \u001b[32m302\u001b[39m:\n\u001b[32m     85\u001b[39m     \u001b[38;5;28;01mraise\u001b[39;00m \u001b[38;5;167;01mException\u001b[39;00m(\u001b[33m\"\u001b[39m\u001b[33mLogin failed\u001b[39m\u001b[33m\"\u001b[39m)\n",
      "\u001b[31mException\u001b[39m: Invalid username or password."
     ]
    }
   ],
   "source": [
    "%%capture cap\n",
    "%run ../desp-authentication.py"
   ]
  },
  {
   "cell_type": "markdown",
   "id": "5ac38420-9c94-464f-990a-bf8166004218",
   "metadata": {},
   "source": [
    "This will generate a token that can then be used by earthkit and polytope."
   ]
  },
  {
   "cell_type": "code",
   "execution_count": 10,
   "id": "26249986",
   "metadata": {
    "tags": [
     "skip-execution"
    ]
   },
   "outputs": [],
   "source": [
    "output_1 = cap.stdout.split('}\\n')\n",
    "access_token = output_1[-1][0:-1]"
   ]
  },
  {
   "cell_type": "markdown",
   "id": "a44eafad-eb93-475f-9824-521473c00bb7",
   "metadata": {},
   "source": [
    "# Requirements\n",
    "To run this notebook install the following:\n",
    "* pip install earthkit-data\n",
    "* pip install earthkit-plots\n",
    "* pip install cf-units         (Optional for unit conversion in maps)"
   ]
  },
  {
   "cell_type": "code",
   "execution_count": 11,
   "id": "07e858db",
   "metadata": {},
   "outputs": [],
   "source": [
    "import earthkit.data\n",
    "import earthkit.regrid\n",
    "from earthkit.plots.interactive import Chart\n",
    "from polytope.api import Client"
   ]
  },
  {
   "cell_type": "code",
   "execution_count": 12,
   "id": "b2827834-1bcf-4958-83b4-c3a6b9a70275",
   "metadata": {
    "tags": [
     "skip-execution",
     "skip-outputs"
    ]
   },
   "outputs": [
    {
     "name": "stderr",
     "output_type": "stream",
     "text": [
      "2025-07-19 12:10:15 - INFO - Key read from /Users/maes/.polytopeapirc\n",
      "2025-07-19 12:10:15 - INFO - Sending request...\n",
      "{'request': 'activity: scenariomip\\n'\n",
      "            'class: d1\\n'\n",
      "            'dataset: climate-dt\\n'\n",
      "            \"date: '20210101'\\n\"\n",
      "            'experiment: ssp3-7.0\\n'\n",
      "            \"expver: '0001'\\n\"\n",
      "            'feature:\\n'\n",
      "            '  points:\\n'\n",
      "            '  - - 38.9\\n'\n",
      "            '    - -9.1\\n'\n",
      "            '  type: verticalprofile\\n'\n",
      "            \"generation: '1'\\n\"\n",
      "            'levelist: 1/to/1000\\n'\n",
      "            'levtype: pl\\n'\n",
      "            'model: ifs-nemo\\n'\n",
      "            \"param: '131'\\n\"\n",
      "            \"realization: '1'\\n\"\n",
      "            'resolution: high\\n'\n",
      "            'stream: clte\\n'\n",
      "            \"time: '0000'\\n\"\n",
      "            'type: fc\\n',\n",
      " 'verb': 'retrieve'}\n",
      "2025-07-19 12:10:15 - INFO - Polytope user key found in session cache for user maes\n",
      "2025-07-19 12:10:16 - INFO - Request accepted. Please poll ./70b82fb4-e727-4487-aac9-5bbf28326876 for status\n",
      "2025-07-19 12:10:16 - INFO - Polytope user key found in session cache for user maes\n",
      "2025-07-19 12:10:16 - INFO - Checking request status (70b82fb4-e727-4487-aac9-5bbf28326876)...\n",
      "2025-07-19 12:10:16 - INFO - The current status of the request is 'queued'\n",
      "2025-07-19 12:10:17 - INFO - The current status of the request is 'processing'\n",
      "2025-07-19 12:10:29 - INFO - The current status of the request is 'processed'\n",
      "2025-07-19 12:10:29 - INFO - Starting data download (application/prs.coverage+json)...\n",
      "2025-07-19 12:10:29 - INFO - Saving data into /Users/maes/Documents/polytope-examples/climate-dt/data/climate-dt-earthkit-fe-verticalprofile.grib...\n",
      "2025-07-19 12:10:29 - INFO - Data downloaded successfully\n",
      "2025-07-19 12:10:29 - INFO - Download rate 85.3KiB/s\n",
      "2025-07-19 12:10:29 - INFO - Data saved successfully into /Users/maes/Documents/polytope-examples/climate-dt/data/climate-dt-earthkit-fe-verticalprofile.grib\n"
     ]
    }
   ],
   "source": [
    "client = Client(\n",
    "    address=\"polytope.lumi.apps.dte.destination-earth.eu\")\n",
    "\n",
    "\n",
    "request = {\n",
    "        \"activity\": \"scenariomip\",\n",
    "        \"class\": \"d1\",\n",
    "        \"dataset\": \"climate-dt\",\n",
    "        \"experiment\": \"ssp3-7.0\",\n",
    "        \"generation\": \"1\",\n",
    "        \"levtype\": \"pl\",\n",
    "        \"date\": \"20210101\",\n",
    "        \"model\": \"ifs-nemo\",\n",
    "        \"expver\": \"0001\",\n",
    "        \"param\": \"131\",\n",
    "        \"realization\": \"1\",\n",
    "        \"resolution\": \"high\",\n",
    "        \"stream\": \"clte\",\n",
    "        \"type\": \"fc\",\n",
    "        \"time\": \"0000\",\n",
    "        \"levelist\": \"1/to/1000\",\n",
    "        \"feature\": {\n",
    "            \"type\": \"verticalprofile\",\n",
    "            \"points\": [[38.9, -9.1]],\n",
    "        },\n",
    "    }\n",
    "\n",
    "file = client.retrieve(\"destination-earth\", request, \"data/climate-dt-earthkit-fe-verticalprofile.grib\") "
   ]
  },
  {
   "cell_type": "code",
   "execution_count": 13,
   "id": "9f7aacfa",
   "metadata": {},
   "outputs": [],
   "source": [
    "data = earthkit.data.from_source(\"file\", \"data/climate-dt-earthkit-fe-verticalprofile.grib\") "
   ]
  },
  {
   "cell_type": "code",
   "execution_count": 14,
   "id": "15045c6d-5244-4ce8-b921-31cb243e0f12",
   "metadata": {},
   "outputs": [
    {
     "data": {
      "text/plain": [
       "{'type': 'CoverageCollection',\n",
       " 'domainType': 'VerticalProfile',\n",
       " 'coverages': [{'mars:metadata': {'activity': 'scenariomip',\n",
       "    'class': 'd1',\n",
       "    'dataset': 'climate-dt',\n",
       "    'Forecast date': '2021-01-01T00:00:00Z',\n",
       "    'experiment': 'ssp3-7.0',\n",
       "    'expver': '0001',\n",
       "    'generation': '1',\n",
       "    'levelist': 1,\n",
       "    'levtype': 'pl',\n",
       "    'model': 'ifs-nemo',\n",
       "    'realization': '1',\n",
       "    'resolution': 'high',\n",
       "    'stream': 'clte',\n",
       "    'type': 'fc',\n",
       "    'number': 0,\n",
       "    'step': 0},\n",
       "   'type': 'Coverage',\n",
       "   'domain': {'type': 'Domain',\n",
       "    'axes': {'latitude': {'values': [38.873582658567]},\n",
       "     'longitude': {'values': [350.9033203125]},\n",
       "     'levelist': {'values': [1,\n",
       "       5,\n",
       "       10,\n",
       "       20,\n",
       "       30,\n",
       "       50,\n",
       "       70,\n",
       "       100,\n",
       "       150,\n",
       "       200,\n",
       "       250,\n",
       "       300,\n",
       "       400,\n",
       "       500,\n",
       "       600,\n",
       "       700,\n",
       "       850,\n",
       "       925,\n",
       "       1000]},\n",
       "     't': {'values': ['2021-01-01T00:00:00Z']}}},\n",
       "   'ranges': {'u': {'type': 'NdArray',\n",
       "     'dataType': 'float',\n",
       "     'shape': [19],\n",
       "     'axisNames': ['levelist'],\n",
       "     'values': [32.509979248046875,\n",
       "      -16.59982681274414,\n",
       "      -2.306589126586914,\n",
       "      7.556833267211914,\n",
       "      7.42906379699707,\n",
       "      11.087087631225586,\n",
       "      17.68380355834961,\n",
       "      25.717838287353516,\n",
       "      36.24024200439453,\n",
       "      47.48233222961426,\n",
       "      36.124881744384766,\n",
       "      37.46219253540039,\n",
       "      33.19424057006836,\n",
       "      25.170822143554688,\n",
       "      23.056955337524414,\n",
       "      18.902206420898438,\n",
       "      9.0506591796875,\n",
       "      8.158443450927734,\n",
       "      4.304893493652344]}}}],\n",
       " 'referencing': [{'coordinates': ['latitude', 'longitude', 'levelist'],\n",
       "   'system': {'type': 'GeographicCRS',\n",
       "    'id': 'http://www.opengis.net/def/crs/OGC/1.3/CRS84'}}],\n",
       " 'parameters': {'u': {'type': 'Parameter',\n",
       "   'description': {'en': 'This parameter is the eastward component of the wind.  It is the horizontal speed of air moving towards the east, in metres per second. A negative sign thus indicates air movement towards the west.<br/><br/>This parameter can be combined with the V component of wind to give the speed and direction of the horizontal wind.'},\n",
       "   'unit': {'symbol': 'm s**-1'},\n",
       "   'observedProperty': {'id': 'u', 'label': {'en': 'U component of wind'}}}}}"
      ]
     },
     "execution_count": 14,
     "metadata": {},
     "output_type": "execute_result"
    }
   ],
   "source": [
    "data._json()"
   ]
  },
  {
   "cell_type": "code",
   "execution_count": 15,
   "id": "0c76470c-e897-4747-a56d-c7c786676b52",
   "metadata": {
    "tags": [
     "skip-text-html"
    ]
   },
   "outputs": [],
   "source": [
    "# Convert data to xarray\n",
    "da = data.to_xarray()"
   ]
  },
  {
   "cell_type": "code",
   "execution_count": 17,
   "id": "0d95ef39",
   "metadata": {},
   "outputs": [
    {
     "data": {
      "text/html": [
       "<div><svg style=\"position: absolute; width: 0; height: 0; overflow: hidden\">\n",
       "<defs>\n",
       "<symbol id=\"icon-database\" viewBox=\"0 0 32 32\">\n",
       "<path d=\"M16 0c-8.837 0-16 2.239-16 5v4c0 2.761 7.163 5 16 5s16-2.239 16-5v-4c0-2.761-7.163-5-16-5z\"></path>\n",
       "<path d=\"M16 17c-8.837 0-16-2.239-16-5v6c0 2.761 7.163 5 16 5s16-2.239 16-5v-6c0 2.761-7.163 5-16 5z\"></path>\n",
       "<path d=\"M16 26c-8.837 0-16-2.239-16-5v6c0 2.761 7.163 5 16 5s16-2.239 16-5v-6c0 2.761-7.163 5-16 5z\"></path>\n",
       "</symbol>\n",
       "<symbol id=\"icon-file-text2\" viewBox=\"0 0 32 32\">\n",
       "<path d=\"M28.681 7.159c-0.694-0.947-1.662-2.053-2.724-3.116s-2.169-2.030-3.116-2.724c-1.612-1.182-2.393-1.319-2.841-1.319h-15.5c-1.378 0-2.5 1.121-2.5 2.5v27c0 1.378 1.122 2.5 2.5 2.5h23c1.378 0 2.5-1.122 2.5-2.5v-19.5c0-0.448-0.137-1.23-1.319-2.841zM24.543 5.457c0.959 0.959 1.712 1.825 2.268 2.543h-4.811v-4.811c0.718 0.556 1.584 1.309 2.543 2.268zM28 29.5c0 0.271-0.229 0.5-0.5 0.5h-23c-0.271 0-0.5-0.229-0.5-0.5v-27c0-0.271 0.229-0.5 0.5-0.5 0 0 15.499-0 15.5 0v7c0 0.552 0.448 1 1 1h7v19.5z\"></path>\n",
       "<path d=\"M23 26h-14c-0.552 0-1-0.448-1-1s0.448-1 1-1h14c0.552 0 1 0.448 1 1s-0.448 1-1 1z\"></path>\n",
       "<path d=\"M23 22h-14c-0.552 0-1-0.448-1-1s0.448-1 1-1h14c0.552 0 1 0.448 1 1s-0.448 1-1 1z\"></path>\n",
       "<path d=\"M23 18h-14c-0.552 0-1-0.448-1-1s0.448-1 1-1h14c0.552 0 1 0.448 1 1s-0.448 1-1 1z\"></path>\n",
       "</symbol>\n",
       "</defs>\n",
       "</svg>\n",
       "<style>/* CSS stylesheet for displaying xarray objects in jupyterlab.\n",
       " *\n",
       " */\n",
       "\n",
       ":root {\n",
       "  --xr-font-color0: var(\n",
       "    --jp-content-font-color0,\n",
       "    var(--pst-color-text-base rgba(0, 0, 0, 1))\n",
       "  );\n",
       "  --xr-font-color2: var(\n",
       "    --jp-content-font-color2,\n",
       "    var(--pst-color-text-base, rgba(0, 0, 0, 0.54))\n",
       "  );\n",
       "  --xr-font-color3: var(\n",
       "    --jp-content-font-color3,\n",
       "    var(--pst-color-text-base, rgba(0, 0, 0, 0.38))\n",
       "  );\n",
       "  --xr-border-color: var(\n",
       "    --jp-border-color2,\n",
       "    hsl(from var(--pst-color-on-background, white) h s calc(l - 10))\n",
       "  );\n",
       "  --xr-disabled-color: var(\n",
       "    --jp-layout-color3,\n",
       "    hsl(from var(--pst-color-on-background, white) h s calc(l - 40))\n",
       "  );\n",
       "  --xr-background-color: var(\n",
       "    --jp-layout-color0,\n",
       "    var(--pst-color-on-background, white)\n",
       "  );\n",
       "  --xr-background-color-row-even: var(\n",
       "    --jp-layout-color1,\n",
       "    hsl(from var(--pst-color-on-background, white) h s calc(l - 5))\n",
       "  );\n",
       "  --xr-background-color-row-odd: var(\n",
       "    --jp-layout-color2,\n",
       "    hsl(from var(--pst-color-on-background, white) h s calc(l - 15))\n",
       "  );\n",
       "}\n",
       "\n",
       "html[theme=\"dark\"],\n",
       "html[data-theme=\"dark\"],\n",
       "body[data-theme=\"dark\"],\n",
       "body.vscode-dark {\n",
       "  --xr-font-color0: var(\n",
       "    --jp-content-font-color0,\n",
       "    var(--pst-color-text-base, rgba(255, 255, 255, 1))\n",
       "  );\n",
       "  --xr-font-color2: var(\n",
       "    --jp-content-font-color2,\n",
       "    var(--pst-color-text-base, rgba(255, 255, 255, 0.54))\n",
       "  );\n",
       "  --xr-font-color3: var(\n",
       "    --jp-content-font-color3,\n",
       "    var(--pst-color-text-base, rgba(255, 255, 255, 0.38))\n",
       "  );\n",
       "  --xr-border-color: var(\n",
       "    --jp-border-color2,\n",
       "    hsl(from var(--pst-color-on-background, #111111) h s calc(l + 10))\n",
       "  );\n",
       "  --xr-disabled-color: var(\n",
       "    --jp-layout-color3,\n",
       "    hsl(from var(--pst-color-on-background, #111111) h s calc(l + 40))\n",
       "  );\n",
       "  --xr-background-color: var(\n",
       "    --jp-layout-color0,\n",
       "    var(--pst-color-on-background, #111111)\n",
       "  );\n",
       "  --xr-background-color-row-even: var(\n",
       "    --jp-layout-color1,\n",
       "    hsl(from var(--pst-color-on-background, #111111) h s calc(l + 5))\n",
       "  );\n",
       "  --xr-background-color-row-odd: var(\n",
       "    --jp-layout-color2,\n",
       "    hsl(from var(--pst-color-on-background, #111111) h s calc(l + 15))\n",
       "  );\n",
       "}\n",
       "\n",
       ".xr-wrap {\n",
       "  display: block !important;\n",
       "  min-width: 300px;\n",
       "  max-width: 700px;\n",
       "}\n",
       "\n",
       ".xr-text-repr-fallback {\n",
       "  /* fallback to plain text repr when CSS is not injected (untrusted notebook) */\n",
       "  display: none;\n",
       "}\n",
       "\n",
       ".xr-header {\n",
       "  padding-top: 6px;\n",
       "  padding-bottom: 6px;\n",
       "  margin-bottom: 4px;\n",
       "  border-bottom: solid 1px var(--xr-border-color);\n",
       "}\n",
       "\n",
       ".xr-header > div,\n",
       ".xr-header > ul {\n",
       "  display: inline;\n",
       "  margin-top: 0;\n",
       "  margin-bottom: 0;\n",
       "}\n",
       "\n",
       ".xr-obj-type,\n",
       ".xr-array-name {\n",
       "  margin-left: 2px;\n",
       "  margin-right: 10px;\n",
       "}\n",
       "\n",
       ".xr-obj-type {\n",
       "  color: var(--xr-font-color2);\n",
       "}\n",
       "\n",
       ".xr-sections {\n",
       "  padding-left: 0 !important;\n",
       "  display: grid;\n",
       "  grid-template-columns: 150px auto auto 1fr 0 20px 0 20px;\n",
       "}\n",
       "\n",
       ".xr-section-item {\n",
       "  display: contents;\n",
       "}\n",
       "\n",
       ".xr-section-item input {\n",
       "  display: inline-block;\n",
       "  opacity: 0;\n",
       "  height: 0;\n",
       "}\n",
       "\n",
       ".xr-section-item input + label {\n",
       "  color: var(--xr-disabled-color);\n",
       "  border: 2px solid transparent !important;\n",
       "}\n",
       "\n",
       ".xr-section-item input:enabled + label {\n",
       "  cursor: pointer;\n",
       "  color: var(--xr-font-color2);\n",
       "}\n",
       "\n",
       ".xr-section-item input:focus + label {\n",
       "  border: 2px solid var(--xr-font-color0) !important;\n",
       "}\n",
       "\n",
       ".xr-section-item input:enabled + label:hover {\n",
       "  color: var(--xr-font-color0);\n",
       "}\n",
       "\n",
       ".xr-section-summary {\n",
       "  grid-column: 1;\n",
       "  color: var(--xr-font-color2);\n",
       "  font-weight: 500;\n",
       "}\n",
       "\n",
       ".xr-section-summary > span {\n",
       "  display: inline-block;\n",
       "  padding-left: 0.5em;\n",
       "}\n",
       "\n",
       ".xr-section-summary-in:disabled + label {\n",
       "  color: var(--xr-font-color2);\n",
       "}\n",
       "\n",
       ".xr-section-summary-in + label:before {\n",
       "  display: inline-block;\n",
       "  content: \"►\";\n",
       "  font-size: 11px;\n",
       "  width: 15px;\n",
       "  text-align: center;\n",
       "}\n",
       "\n",
       ".xr-section-summary-in:disabled + label:before {\n",
       "  color: var(--xr-disabled-color);\n",
       "}\n",
       "\n",
       ".xr-section-summary-in:checked + label:before {\n",
       "  content: \"▼\";\n",
       "}\n",
       "\n",
       ".xr-section-summary-in:checked + label > span {\n",
       "  display: none;\n",
       "}\n",
       "\n",
       ".xr-section-summary,\n",
       ".xr-section-inline-details {\n",
       "  padding-top: 4px;\n",
       "  padding-bottom: 4px;\n",
       "}\n",
       "\n",
       ".xr-section-inline-details {\n",
       "  grid-column: 2 / -1;\n",
       "}\n",
       "\n",
       ".xr-section-details {\n",
       "  display: none;\n",
       "  grid-column: 1 / -1;\n",
       "  margin-bottom: 5px;\n",
       "}\n",
       "\n",
       ".xr-section-summary-in:checked ~ .xr-section-details {\n",
       "  display: contents;\n",
       "}\n",
       "\n",
       ".xr-array-wrap {\n",
       "  grid-column: 1 / -1;\n",
       "  display: grid;\n",
       "  grid-template-columns: 20px auto;\n",
       "}\n",
       "\n",
       ".xr-array-wrap > label {\n",
       "  grid-column: 1;\n",
       "  vertical-align: top;\n",
       "}\n",
       "\n",
       ".xr-preview {\n",
       "  color: var(--xr-font-color3);\n",
       "}\n",
       "\n",
       ".xr-array-preview,\n",
       ".xr-array-data {\n",
       "  padding: 0 5px !important;\n",
       "  grid-column: 2;\n",
       "}\n",
       "\n",
       ".xr-array-data,\n",
       ".xr-array-in:checked ~ .xr-array-preview {\n",
       "  display: none;\n",
       "}\n",
       "\n",
       ".xr-array-in:checked ~ .xr-array-data,\n",
       ".xr-array-preview {\n",
       "  display: inline-block;\n",
       "}\n",
       "\n",
       ".xr-dim-list {\n",
       "  display: inline-block !important;\n",
       "  list-style: none;\n",
       "  padding: 0 !important;\n",
       "  margin: 0;\n",
       "}\n",
       "\n",
       ".xr-dim-list li {\n",
       "  display: inline-block;\n",
       "  padding: 0;\n",
       "  margin: 0;\n",
       "}\n",
       "\n",
       ".xr-dim-list:before {\n",
       "  content: \"(\";\n",
       "}\n",
       "\n",
       ".xr-dim-list:after {\n",
       "  content: \")\";\n",
       "}\n",
       "\n",
       ".xr-dim-list li:not(:last-child):after {\n",
       "  content: \",\";\n",
       "  padding-right: 5px;\n",
       "}\n",
       "\n",
       ".xr-has-index {\n",
       "  font-weight: bold;\n",
       "}\n",
       "\n",
       ".xr-var-list,\n",
       ".xr-var-item {\n",
       "  display: contents;\n",
       "}\n",
       "\n",
       ".xr-var-item > div,\n",
       ".xr-var-item label,\n",
       ".xr-var-item > .xr-var-name span {\n",
       "  background-color: var(--xr-background-color-row-even);\n",
       "  border-color: var(--xr-background-color-row-odd);\n",
       "  margin-bottom: 0;\n",
       "  padding-top: 2px;\n",
       "}\n",
       "\n",
       ".xr-var-item > .xr-var-name:hover span {\n",
       "  padding-right: 5px;\n",
       "}\n",
       "\n",
       ".xr-var-list > li:nth-child(odd) > div,\n",
       ".xr-var-list > li:nth-child(odd) > label,\n",
       ".xr-var-list > li:nth-child(odd) > .xr-var-name span {\n",
       "  background-color: var(--xr-background-color-row-odd);\n",
       "  border-color: var(--xr-background-color-row-even);\n",
       "}\n",
       "\n",
       ".xr-var-name {\n",
       "  grid-column: 1;\n",
       "}\n",
       "\n",
       ".xr-var-dims {\n",
       "  grid-column: 2;\n",
       "}\n",
       "\n",
       ".xr-var-dtype {\n",
       "  grid-column: 3;\n",
       "  text-align: right;\n",
       "  color: var(--xr-font-color2);\n",
       "}\n",
       "\n",
       ".xr-var-preview {\n",
       "  grid-column: 4;\n",
       "}\n",
       "\n",
       ".xr-index-preview {\n",
       "  grid-column: 2 / 5;\n",
       "  color: var(--xr-font-color2);\n",
       "}\n",
       "\n",
       ".xr-var-name,\n",
       ".xr-var-dims,\n",
       ".xr-var-dtype,\n",
       ".xr-preview,\n",
       ".xr-attrs dt {\n",
       "  white-space: nowrap;\n",
       "  overflow: hidden;\n",
       "  text-overflow: ellipsis;\n",
       "  padding-right: 10px;\n",
       "}\n",
       "\n",
       ".xr-var-name:hover,\n",
       ".xr-var-dims:hover,\n",
       ".xr-var-dtype:hover,\n",
       ".xr-attrs dt:hover {\n",
       "  overflow: visible;\n",
       "  width: auto;\n",
       "  z-index: 1;\n",
       "}\n",
       "\n",
       ".xr-var-attrs,\n",
       ".xr-var-data,\n",
       ".xr-index-data {\n",
       "  display: none;\n",
       "  border-top: 2px dotted var(--xr-background-color);\n",
       "  padding-bottom: 20px !important;\n",
       "  padding-top: 10px !important;\n",
       "}\n",
       "\n",
       ".xr-var-attrs-in + label,\n",
       ".xr-var-data-in + label,\n",
       ".xr-index-data-in + label {\n",
       "  padding: 0 1px;\n",
       "}\n",
       "\n",
       ".xr-var-attrs-in:checked ~ .xr-var-attrs,\n",
       ".xr-var-data-in:checked ~ .xr-var-data,\n",
       ".xr-index-data-in:checked ~ .xr-index-data {\n",
       "  display: block;\n",
       "}\n",
       "\n",
       ".xr-var-data > table {\n",
       "  float: right;\n",
       "}\n",
       "\n",
       ".xr-var-data > pre,\n",
       ".xr-index-data > pre,\n",
       ".xr-var-data > table > tbody > tr {\n",
       "  background-color: transparent !important;\n",
       "}\n",
       "\n",
       ".xr-var-name span,\n",
       ".xr-var-data,\n",
       ".xr-index-name div,\n",
       ".xr-index-data,\n",
       ".xr-attrs {\n",
       "  padding-left: 25px !important;\n",
       "}\n",
       "\n",
       ".xr-attrs,\n",
       ".xr-var-attrs,\n",
       ".xr-var-data,\n",
       ".xr-index-data {\n",
       "  grid-column: 1 / -1;\n",
       "}\n",
       "\n",
       "dl.xr-attrs {\n",
       "  padding: 0;\n",
       "  margin: 0;\n",
       "  display: grid;\n",
       "  grid-template-columns: 125px auto;\n",
       "}\n",
       "\n",
       ".xr-attrs dt,\n",
       ".xr-attrs dd {\n",
       "  padding: 0;\n",
       "  margin: 0;\n",
       "  float: left;\n",
       "  padding-right: 10px;\n",
       "  width: auto;\n",
       "}\n",
       "\n",
       ".xr-attrs dt {\n",
       "  font-weight: normal;\n",
       "  grid-column: 1;\n",
       "}\n",
       "\n",
       ".xr-attrs dt:hover span {\n",
       "  display: inline-block;\n",
       "  background: var(--xr-background-color);\n",
       "  padding-right: 10px;\n",
       "}\n",
       "\n",
       ".xr-attrs dd {\n",
       "  grid-column: 2;\n",
       "  white-space: pre-wrap;\n",
       "  word-break: break-all;\n",
       "}\n",
       "\n",
       ".xr-icon-database,\n",
       ".xr-icon-file-text2,\n",
       ".xr-no-icon {\n",
       "  display: inline-block;\n",
       "  vertical-align: middle;\n",
       "  width: 1em;\n",
       "  height: 1.5em !important;\n",
       "  stroke-width: 0;\n",
       "  stroke: currentColor;\n",
       "  fill: currentColor;\n",
       "}\n",
       "\n",
       ".xr-var-attrs-in:checked + label > .xr-icon-file-text2,\n",
       ".xr-var-data-in:checked + label > .xr-icon-database,\n",
       ".xr-index-data-in:checked + label > .xr-icon-database {\n",
       "  color: var(--xr-font-color0);\n",
       "  filter: drop-shadow(1px 1px 5px var(--xr-font-color2));\n",
       "  stroke-width: 0.8px;\n",
       "}\n",
       "</style><pre class='xr-text-repr-fallback'>&lt;xarray.Dataset&gt; Size: 416B\n",
       "Dimensions:    (latitude: 1, longitude: 1, number: 1, datetime: 1, time: 1,\n",
       "                levelist: 19)\n",
       "Coordinates:\n",
       "  * latitude   (latitude) float64 8B 38.87\n",
       "  * longitude  (longitude) float64 8B 350.9\n",
       "  * number     (number) int64 8B 0\n",
       "  * datetime   (datetime) &lt;U20 80B &#x27;2021-01-01T00:00:00Z&#x27;\n",
       "  * time       (time) int64 8B 0\n",
       "  * levelist   (levelist) int64 152B 1 5 10 20 30 50 ... 600 700 850 925 1000\n",
       "Data variables:\n",
       "    u          (latitude, longitude, number, datetime, time, levelist) float64 152B ...\n",
       "Attributes: (12/15)\n",
       "    activity:       scenariomip\n",
       "    class:          d1\n",
       "    dataset:        climate-dt\n",
       "    Forecast date:  2021-01-01T00:00:00Z\n",
       "    experiment:     ssp3-7.0\n",
       "    expver:         0001\n",
       "    ...             ...\n",
       "    model:          ifs-nemo\n",
       "    realization:    1\n",
       "    resolution:     high\n",
       "    stream:         clte\n",
       "    type:           fc\n",
       "    number:         0</pre><div class='xr-wrap' style='display:none'><div class='xr-header'><div class='xr-obj-type'>xarray.Dataset</div></div><ul class='xr-sections'><li class='xr-section-item'><input id='section-62a75286-d047-4c7c-bf4f-bcad260b661a' class='xr-section-summary-in' type='checkbox' disabled ><label for='section-62a75286-d047-4c7c-bf4f-bcad260b661a' class='xr-section-summary'  title='Expand/collapse section'>Dimensions:</label><div class='xr-section-inline-details'><ul class='xr-dim-list'><li><span class='xr-has-index'>latitude</span>: 1</li><li><span class='xr-has-index'>longitude</span>: 1</li><li><span class='xr-has-index'>number</span>: 1</li><li><span class='xr-has-index'>datetime</span>: 1</li><li><span class='xr-has-index'>time</span>: 1</li><li><span class='xr-has-index'>levelist</span>: 19</li></ul></div><div class='xr-section-details'></div></li><li class='xr-section-item'><input id='section-8121795c-4db4-4fcb-acab-60ca63cf2032' class='xr-section-summary-in' type='checkbox'  checked><label for='section-8121795c-4db4-4fcb-acab-60ca63cf2032' class='xr-section-summary' >Coordinates: <span>(6)</span></label><div class='xr-section-inline-details'></div><div class='xr-section-details'><ul class='xr-var-list'><li class='xr-var-item'><div class='xr-var-name'><span class='xr-has-index'>latitude</span></div><div class='xr-var-dims'>(latitude)</div><div class='xr-var-dtype'>float64</div><div class='xr-var-preview xr-preview'>38.87</div><input id='attrs-7f639369-e4b0-4e77-9a4d-7cd3dabfd74f' class='xr-var-attrs-in' type='checkbox' disabled><label for='attrs-7f639369-e4b0-4e77-9a4d-7cd3dabfd74f' title='Show/Hide attributes'><svg class='icon xr-icon-file-text2'><use xlink:href='#icon-file-text2'></use></svg></label><input id='data-2ebdd6ff-3a60-4e85-8720-dd23448eb6a4' class='xr-var-data-in' type='checkbox'><label for='data-2ebdd6ff-3a60-4e85-8720-dd23448eb6a4' title='Show/Hide data repr'><svg class='icon xr-icon-database'><use xlink:href='#icon-database'></use></svg></label><div class='xr-var-attrs'><dl class='xr-attrs'></dl></div><div class='xr-var-data'><pre>array([38.873583])</pre></div></li><li class='xr-var-item'><div class='xr-var-name'><span class='xr-has-index'>longitude</span></div><div class='xr-var-dims'>(longitude)</div><div class='xr-var-dtype'>float64</div><div class='xr-var-preview xr-preview'>350.9</div><input id='attrs-3d961863-3124-4396-8d10-2bcea2e9d5f4' class='xr-var-attrs-in' type='checkbox' disabled><label for='attrs-3d961863-3124-4396-8d10-2bcea2e9d5f4' title='Show/Hide attributes'><svg class='icon xr-icon-file-text2'><use xlink:href='#icon-file-text2'></use></svg></label><input id='data-6a6546f5-248d-4fe1-9c6f-2de6da35223f' class='xr-var-data-in' type='checkbox'><label for='data-6a6546f5-248d-4fe1-9c6f-2de6da35223f' title='Show/Hide data repr'><svg class='icon xr-icon-database'><use xlink:href='#icon-database'></use></svg></label><div class='xr-var-attrs'><dl class='xr-attrs'></dl></div><div class='xr-var-data'><pre>array([350.90332])</pre></div></li><li class='xr-var-item'><div class='xr-var-name'><span class='xr-has-index'>number</span></div><div class='xr-var-dims'>(number)</div><div class='xr-var-dtype'>int64</div><div class='xr-var-preview xr-preview'>0</div><input id='attrs-a4c11f97-32ba-4f9f-81f5-f0cc725ef62b' class='xr-var-attrs-in' type='checkbox' disabled><label for='attrs-a4c11f97-32ba-4f9f-81f5-f0cc725ef62b' title='Show/Hide attributes'><svg class='icon xr-icon-file-text2'><use xlink:href='#icon-file-text2'></use></svg></label><input id='data-ededc1cc-9664-4c5d-9096-ab95bbcfd0ef' class='xr-var-data-in' type='checkbox'><label for='data-ededc1cc-9664-4c5d-9096-ab95bbcfd0ef' title='Show/Hide data repr'><svg class='icon xr-icon-database'><use xlink:href='#icon-database'></use></svg></label><div class='xr-var-attrs'><dl class='xr-attrs'></dl></div><div class='xr-var-data'><pre>array([0])</pre></div></li><li class='xr-var-item'><div class='xr-var-name'><span class='xr-has-index'>datetime</span></div><div class='xr-var-dims'>(datetime)</div><div class='xr-var-dtype'>&lt;U20</div><div class='xr-var-preview xr-preview'>&#x27;2021-01-01T00:00:00Z&#x27;</div><input id='attrs-3360dc3d-b1cb-4e7a-81b6-dddade38dc96' class='xr-var-attrs-in' type='checkbox' disabled><label for='attrs-3360dc3d-b1cb-4e7a-81b6-dddade38dc96' title='Show/Hide attributes'><svg class='icon xr-icon-file-text2'><use xlink:href='#icon-file-text2'></use></svg></label><input id='data-feb2b452-edef-4b4a-a197-ed2d5ae2def3' class='xr-var-data-in' type='checkbox'><label for='data-feb2b452-edef-4b4a-a197-ed2d5ae2def3' title='Show/Hide data repr'><svg class='icon xr-icon-database'><use xlink:href='#icon-database'></use></svg></label><div class='xr-var-attrs'><dl class='xr-attrs'></dl></div><div class='xr-var-data'><pre>array([&#x27;2021-01-01T00:00:00Z&#x27;], dtype=&#x27;&lt;U20&#x27;)</pre></div></li><li class='xr-var-item'><div class='xr-var-name'><span class='xr-has-index'>time</span></div><div class='xr-var-dims'>(time)</div><div class='xr-var-dtype'>int64</div><div class='xr-var-preview xr-preview'>0</div><input id='attrs-94ff06f0-540e-4848-9078-e307dfc202e5' class='xr-var-attrs-in' type='checkbox' disabled><label for='attrs-94ff06f0-540e-4848-9078-e307dfc202e5' title='Show/Hide attributes'><svg class='icon xr-icon-file-text2'><use xlink:href='#icon-file-text2'></use></svg></label><input id='data-49704b35-a8b0-48ad-a30a-496429634bd6' class='xr-var-data-in' type='checkbox'><label for='data-49704b35-a8b0-48ad-a30a-496429634bd6' title='Show/Hide data repr'><svg class='icon xr-icon-database'><use xlink:href='#icon-database'></use></svg></label><div class='xr-var-attrs'><dl class='xr-attrs'></dl></div><div class='xr-var-data'><pre>array([0])</pre></div></li><li class='xr-var-item'><div class='xr-var-name'><span class='xr-has-index'>levelist</span></div><div class='xr-var-dims'>(levelist)</div><div class='xr-var-dtype'>int64</div><div class='xr-var-preview xr-preview'>1 5 10 20 30 ... 700 850 925 1000</div><input id='attrs-c82bd8dc-f61d-438b-8b9e-7b1717c7a6c3' class='xr-var-attrs-in' type='checkbox' disabled><label for='attrs-c82bd8dc-f61d-438b-8b9e-7b1717c7a6c3' title='Show/Hide attributes'><svg class='icon xr-icon-file-text2'><use xlink:href='#icon-file-text2'></use></svg></label><input id='data-9d831e66-c8ee-445f-ba8e-836bdd2a7ddc' class='xr-var-data-in' type='checkbox'><label for='data-9d831e66-c8ee-445f-ba8e-836bdd2a7ddc' title='Show/Hide data repr'><svg class='icon xr-icon-database'><use xlink:href='#icon-database'></use></svg></label><div class='xr-var-attrs'><dl class='xr-attrs'></dl></div><div class='xr-var-data'><pre>array([   1,    5,   10,   20,   30,   50,   70,  100,  150,  200,  250,  300,\n",
       "        400,  500,  600,  700,  850,  925, 1000])</pre></div></li></ul></div></li><li class='xr-section-item'><input id='section-421e15ab-73be-45a4-ab42-fbeca65ec255' class='xr-section-summary-in' type='checkbox'  checked><label for='section-421e15ab-73be-45a4-ab42-fbeca65ec255' class='xr-section-summary' >Data variables: <span>(1)</span></label><div class='xr-section-inline-details'></div><div class='xr-section-details'><ul class='xr-var-list'><li class='xr-var-item'><div class='xr-var-name'><span>u</span></div><div class='xr-var-dims'>(latitude, longitude, number, datetime, time, levelist)</div><div class='xr-var-dtype'>float64</div><div class='xr-var-preview xr-preview'>32.51 -16.6 -2.307 ... 8.158 4.305</div><input id='attrs-5f235f1d-9b7b-4bd8-9055-09e32a5f7884' class='xr-var-attrs-in' type='checkbox' ><label for='attrs-5f235f1d-9b7b-4bd8-9055-09e32a5f7884' title='Show/Hide attributes'><svg class='icon xr-icon-file-text2'><use xlink:href='#icon-file-text2'></use></svg></label><input id='data-351628a6-d853-4319-8c16-1ae12e42c25a' class='xr-var-data-in' type='checkbox'><label for='data-351628a6-d853-4319-8c16-1ae12e42c25a' title='Show/Hide data repr'><svg class='icon xr-icon-database'><use xlink:href='#icon-database'></use></svg></label><div class='xr-var-attrs'><dl class='xr-attrs'><dt><span>type :</span></dt><dd>Parameter</dd><dt><span>units :</span></dt><dd>m s**-1</dd><dt><span>long_name :</span></dt><dd>u</dd></dl></div><div class='xr-var-data'><pre>array([[[[[[ 32.50997925, -16.59982681,  -2.30658913,   7.55683327,\n",
       "              7.4290638 ,  11.08708763,  17.68380356,  25.71783829,\n",
       "             36.240242  ,  47.48233223,  36.12488174,  37.46219254,\n",
       "             33.19424057,  25.17082214,  23.05695534,  18.90220642,\n",
       "              9.05065918,   8.15844345,   4.30489349]]]]]])</pre></div></li></ul></div></li><li class='xr-section-item'><input id='section-0b75baa6-9830-441d-86b7-238115f6debd' class='xr-section-summary-in' type='checkbox'  ><label for='section-0b75baa6-9830-441d-86b7-238115f6debd' class='xr-section-summary' >Indexes: <span>(6)</span></label><div class='xr-section-inline-details'></div><div class='xr-section-details'><ul class='xr-var-list'><li class='xr-var-item'><div class='xr-index-name'><div>latitude</div></div><div class='xr-index-preview'>PandasIndex</div><input type='checkbox' disabled/><label></label><input id='index-e66f939d-c178-4005-bd62-ac798fd94254' class='xr-index-data-in' type='checkbox'/><label for='index-e66f939d-c178-4005-bd62-ac798fd94254' title='Show/Hide index repr'><svg class='icon xr-icon-database'><use xlink:href='#icon-database'></use></svg></label><div class='xr-index-data'><pre>PandasIndex(Index([38.873582658567], dtype=&#x27;float64&#x27;, name=&#x27;latitude&#x27;))</pre></div></li><li class='xr-var-item'><div class='xr-index-name'><div>longitude</div></div><div class='xr-index-preview'>PandasIndex</div><input type='checkbox' disabled/><label></label><input id='index-e103e2a0-55bc-44af-a48c-d2a24076485e' class='xr-index-data-in' type='checkbox'/><label for='index-e103e2a0-55bc-44af-a48c-d2a24076485e' title='Show/Hide index repr'><svg class='icon xr-icon-database'><use xlink:href='#icon-database'></use></svg></label><div class='xr-index-data'><pre>PandasIndex(Index([350.9033203125], dtype=&#x27;float64&#x27;, name=&#x27;longitude&#x27;))</pre></div></li><li class='xr-var-item'><div class='xr-index-name'><div>number</div></div><div class='xr-index-preview'>PandasIndex</div><input type='checkbox' disabled/><label></label><input id='index-0432dd96-ec55-4c92-9e38-f4d2ad64c6f9' class='xr-index-data-in' type='checkbox'/><label for='index-0432dd96-ec55-4c92-9e38-f4d2ad64c6f9' title='Show/Hide index repr'><svg class='icon xr-icon-database'><use xlink:href='#icon-database'></use></svg></label><div class='xr-index-data'><pre>PandasIndex(Index([0], dtype=&#x27;int64&#x27;, name=&#x27;number&#x27;))</pre></div></li><li class='xr-var-item'><div class='xr-index-name'><div>datetime</div></div><div class='xr-index-preview'>PandasIndex</div><input type='checkbox' disabled/><label></label><input id='index-2fa33ebb-313d-437a-96ae-32d1748723b8' class='xr-index-data-in' type='checkbox'/><label for='index-2fa33ebb-313d-437a-96ae-32d1748723b8' title='Show/Hide index repr'><svg class='icon xr-icon-database'><use xlink:href='#icon-database'></use></svg></label><div class='xr-index-data'><pre>PandasIndex(Index([&#x27;2021-01-01T00:00:00Z&#x27;], dtype=&#x27;object&#x27;, name=&#x27;datetime&#x27;))</pre></div></li><li class='xr-var-item'><div class='xr-index-name'><div>time</div></div><div class='xr-index-preview'>PandasIndex</div><input type='checkbox' disabled/><label></label><input id='index-aae13ad0-07a8-449b-be70-a9c7a178f6cf' class='xr-index-data-in' type='checkbox'/><label for='index-aae13ad0-07a8-449b-be70-a9c7a178f6cf' title='Show/Hide index repr'><svg class='icon xr-icon-database'><use xlink:href='#icon-database'></use></svg></label><div class='xr-index-data'><pre>PandasIndex(Index([0], dtype=&#x27;int64&#x27;, name=&#x27;time&#x27;))</pre></div></li><li class='xr-var-item'><div class='xr-index-name'><div>levelist</div></div><div class='xr-index-preview'>PandasIndex</div><input type='checkbox' disabled/><label></label><input id='index-e29fcb39-73be-433b-a863-18240257a276' class='xr-index-data-in' type='checkbox'/><label for='index-e29fcb39-73be-433b-a863-18240257a276' title='Show/Hide index repr'><svg class='icon xr-icon-database'><use xlink:href='#icon-database'></use></svg></label><div class='xr-index-data'><pre>PandasIndex(Index([   1,    5,   10,   20,   30,   50,   70,  100,  150,  200,  250,  300,\n",
       "        400,  500,  600,  700,  850,  925, 1000],\n",
       "      dtype=&#x27;int64&#x27;, name=&#x27;levelist&#x27;))</pre></div></li></ul></div></li><li class='xr-section-item'><input id='section-a351fab7-1c20-4cfb-b38d-ce82ad84a0b0' class='xr-section-summary-in' type='checkbox'  ><label for='section-a351fab7-1c20-4cfb-b38d-ce82ad84a0b0' class='xr-section-summary' >Attributes: <span>(15)</span></label><div class='xr-section-inline-details'></div><div class='xr-section-details'><dl class='xr-attrs'><dt><span>activity :</span></dt><dd>scenariomip</dd><dt><span>class :</span></dt><dd>d1</dd><dt><span>dataset :</span></dt><dd>climate-dt</dd><dt><span>Forecast date :</span></dt><dd>2021-01-01T00:00:00Z</dd><dt><span>experiment :</span></dt><dd>ssp3-7.0</dd><dt><span>expver :</span></dt><dd>0001</dd><dt><span>generation :</span></dt><dd>1</dd><dt><span>levelist :</span></dt><dd>1</dd><dt><span>levtype :</span></dt><dd>pl</dd><dt><span>model :</span></dt><dd>ifs-nemo</dd><dt><span>realization :</span></dt><dd>1</dd><dt><span>resolution :</span></dt><dd>high</dd><dt><span>stream :</span></dt><dd>clte</dd><dt><span>type :</span></dt><dd>fc</dd><dt><span>number :</span></dt><dd>0</dd></dl></div></li></ul></div></div>"
      ],
      "text/plain": [
       "<xarray.Dataset> Size: 416B\n",
       "Dimensions:    (latitude: 1, longitude: 1, number: 1, datetime: 1, time: 1,\n",
       "                levelist: 19)\n",
       "Coordinates:\n",
       "  * latitude   (latitude) float64 8B 38.87\n",
       "  * longitude  (longitude) float64 8B 350.9\n",
       "  * number     (number) int64 8B 0\n",
       "  * datetime   (datetime) <U20 80B '2021-01-01T00:00:00Z'\n",
       "  * time       (time) int64 8B 0\n",
       "  * levelist   (levelist) int64 152B 1 5 10 20 30 50 ... 600 700 850 925 1000\n",
       "Data variables:\n",
       "    u          (latitude, longitude, number, datetime, time, levelist) float64 152B ...\n",
       "Attributes: (12/15)\n",
       "    activity:       scenariomip\n",
       "    class:          d1\n",
       "    dataset:        climate-dt\n",
       "    Forecast date:  2021-01-01T00:00:00Z\n",
       "    experiment:     ssp3-7.0\n",
       "    expver:         0001\n",
       "    ...             ...\n",
       "    model:          ifs-nemo\n",
       "    realization:    1\n",
       "    resolution:     high\n",
       "    stream:         clte\n",
       "    type:           fc\n",
       "    number:         0"
      ]
     },
     "execution_count": 17,
     "metadata": {},
     "output_type": "execute_result"
    }
   ],
   "source": [
    "da"
   ]
  },
  {
   "cell_type": "code",
   "execution_count": 19,
   "id": "1980070f",
   "metadata": {},
   "outputs": [
    {
     "data": {
      "application/vnd.plotly.v1+json": {
       "config": {
        "plotlyServerURL": "https://plot.ly"
       },
       "data": [
        {
         "type": "scatter",
         "x": {
          "bdata": "AAAAAEdBQEAAAABAjpkwwAAAAADlcwLAAAAAgDI6HkAAAACAXLcdQAAAAMCWLCZAAAAAwA2vMUAAAABAxLc5QAAAAEDAHkJAAAAAEL29R0AAAAAg/A9CQAAAACApu0JAAAAA4NyYQEAAAAAAuys5QAAAAKCUDjdAAAAAAPfmMkAAAAAA8BkiQAAAAIAfUSBAAAAAADY4EUA=",
          "dtype": "f8"
         },
         "y": {
          "bdata": "AQAFAAoAFAAeADIARgBkAJYAyAD6ACwBkAH0AVgCvAJSA50D6AM=",
          "dtype": "i2"
         }
        }
       ],
       "layout": {
        "colorway": [
         "#636EFA",
         "#EF553B",
         "#00CC96",
         "#AB63FA",
         "#FFA15A",
         "#19D3F3",
         "#FF6692",
         "#B6E880",
         "#FF97FF",
         "#FECB52"
        ],
        "height": 750,
        "hovermode": "x",
        "plot_bgcolor": "white",
        "showlegend": false,
        "template": {
         "data": {
          "bar": [
           {
            "error_x": {
             "color": "#2a3f5f"
            },
            "error_y": {
             "color": "#2a3f5f"
            },
            "marker": {
             "line": {
              "color": "#E5ECF6",
              "width": 0.5
             },
             "pattern": {
              "fillmode": "overlay",
              "size": 10,
              "solidity": 0.2
             }
            },
            "type": "bar"
           }
          ],
          "barpolar": [
           {
            "marker": {
             "line": {
              "color": "#E5ECF6",
              "width": 0.5
             },
             "pattern": {
              "fillmode": "overlay",
              "size": 10,
              "solidity": 0.2
             }
            },
            "type": "barpolar"
           }
          ],
          "carpet": [
           {
            "aaxis": {
             "endlinecolor": "#2a3f5f",
             "gridcolor": "white",
             "linecolor": "white",
             "minorgridcolor": "white",
             "startlinecolor": "#2a3f5f"
            },
            "baxis": {
             "endlinecolor": "#2a3f5f",
             "gridcolor": "white",
             "linecolor": "white",
             "minorgridcolor": "white",
             "startlinecolor": "#2a3f5f"
            },
            "type": "carpet"
           }
          ],
          "choropleth": [
           {
            "colorbar": {
             "outlinewidth": 0,
             "ticks": ""
            },
            "type": "choropleth"
           }
          ],
          "contour": [
           {
            "colorbar": {
             "outlinewidth": 0,
             "ticks": ""
            },
            "colorscale": [
             [
              0,
              "#0d0887"
             ],
             [
              0.1111111111111111,
              "#46039f"
             ],
             [
              0.2222222222222222,
              "#7201a8"
             ],
             [
              0.3333333333333333,
              "#9c179e"
             ],
             [
              0.4444444444444444,
              "#bd3786"
             ],
             [
              0.5555555555555556,
              "#d8576b"
             ],
             [
              0.6666666666666666,
              "#ed7953"
             ],
             [
              0.7777777777777778,
              "#fb9f3a"
             ],
             [
              0.8888888888888888,
              "#fdca26"
             ],
             [
              1,
              "#f0f921"
             ]
            ],
            "type": "contour"
           }
          ],
          "contourcarpet": [
           {
            "colorbar": {
             "outlinewidth": 0,
             "ticks": ""
            },
            "type": "contourcarpet"
           }
          ],
          "heatmap": [
           {
            "colorbar": {
             "outlinewidth": 0,
             "ticks": ""
            },
            "colorscale": [
             [
              0,
              "#0d0887"
             ],
             [
              0.1111111111111111,
              "#46039f"
             ],
             [
              0.2222222222222222,
              "#7201a8"
             ],
             [
              0.3333333333333333,
              "#9c179e"
             ],
             [
              0.4444444444444444,
              "#bd3786"
             ],
             [
              0.5555555555555556,
              "#d8576b"
             ],
             [
              0.6666666666666666,
              "#ed7953"
             ],
             [
              0.7777777777777778,
              "#fb9f3a"
             ],
             [
              0.8888888888888888,
              "#fdca26"
             ],
             [
              1,
              "#f0f921"
             ]
            ],
            "type": "heatmap"
           }
          ],
          "histogram": [
           {
            "marker": {
             "pattern": {
              "fillmode": "overlay",
              "size": 10,
              "solidity": 0.2
             }
            },
            "type": "histogram"
           }
          ],
          "histogram2d": [
           {
            "colorbar": {
             "outlinewidth": 0,
             "ticks": ""
            },
            "colorscale": [
             [
              0,
              "#0d0887"
             ],
             [
              0.1111111111111111,
              "#46039f"
             ],
             [
              0.2222222222222222,
              "#7201a8"
             ],
             [
              0.3333333333333333,
              "#9c179e"
             ],
             [
              0.4444444444444444,
              "#bd3786"
             ],
             [
              0.5555555555555556,
              "#d8576b"
             ],
             [
              0.6666666666666666,
              "#ed7953"
             ],
             [
              0.7777777777777778,
              "#fb9f3a"
             ],
             [
              0.8888888888888888,
              "#fdca26"
             ],
             [
              1,
              "#f0f921"
             ]
            ],
            "type": "histogram2d"
           }
          ],
          "histogram2dcontour": [
           {
            "colorbar": {
             "outlinewidth": 0,
             "ticks": ""
            },
            "colorscale": [
             [
              0,
              "#0d0887"
             ],
             [
              0.1111111111111111,
              "#46039f"
             ],
             [
              0.2222222222222222,
              "#7201a8"
             ],
             [
              0.3333333333333333,
              "#9c179e"
             ],
             [
              0.4444444444444444,
              "#bd3786"
             ],
             [
              0.5555555555555556,
              "#d8576b"
             ],
             [
              0.6666666666666666,
              "#ed7953"
             ],
             [
              0.7777777777777778,
              "#fb9f3a"
             ],
             [
              0.8888888888888888,
              "#fdca26"
             ],
             [
              1,
              "#f0f921"
             ]
            ],
            "type": "histogram2dcontour"
           }
          ],
          "mesh3d": [
           {
            "colorbar": {
             "outlinewidth": 0,
             "ticks": ""
            },
            "type": "mesh3d"
           }
          ],
          "parcoords": [
           {
            "line": {
             "colorbar": {
              "outlinewidth": 0,
              "ticks": ""
             }
            },
            "type": "parcoords"
           }
          ],
          "pie": [
           {
            "automargin": true,
            "type": "pie"
           }
          ],
          "scatter": [
           {
            "fillpattern": {
             "fillmode": "overlay",
             "size": 10,
             "solidity": 0.2
            },
            "type": "scatter"
           }
          ],
          "scatter3d": [
           {
            "line": {
             "colorbar": {
              "outlinewidth": 0,
              "ticks": ""
             }
            },
            "marker": {
             "colorbar": {
              "outlinewidth": 0,
              "ticks": ""
             }
            },
            "type": "scatter3d"
           }
          ],
          "scattercarpet": [
           {
            "marker": {
             "colorbar": {
              "outlinewidth": 0,
              "ticks": ""
             }
            },
            "type": "scattercarpet"
           }
          ],
          "scattergeo": [
           {
            "marker": {
             "colorbar": {
              "outlinewidth": 0,
              "ticks": ""
             }
            },
            "type": "scattergeo"
           }
          ],
          "scattergl": [
           {
            "marker": {
             "colorbar": {
              "outlinewidth": 0,
              "ticks": ""
             }
            },
            "type": "scattergl"
           }
          ],
          "scattermap": [
           {
            "marker": {
             "colorbar": {
              "outlinewidth": 0,
              "ticks": ""
             }
            },
            "type": "scattermap"
           }
          ],
          "scattermapbox": [
           {
            "marker": {
             "colorbar": {
              "outlinewidth": 0,
              "ticks": ""
             }
            },
            "type": "scattermapbox"
           }
          ],
          "scatterpolar": [
           {
            "marker": {
             "colorbar": {
              "outlinewidth": 0,
              "ticks": ""
             }
            },
            "type": "scatterpolar"
           }
          ],
          "scatterpolargl": [
           {
            "marker": {
             "colorbar": {
              "outlinewidth": 0,
              "ticks": ""
             }
            },
            "type": "scatterpolargl"
           }
          ],
          "scatterternary": [
           {
            "marker": {
             "colorbar": {
              "outlinewidth": 0,
              "ticks": ""
             }
            },
            "type": "scatterternary"
           }
          ],
          "surface": [
           {
            "colorbar": {
             "outlinewidth": 0,
             "ticks": ""
            },
            "colorscale": [
             [
              0,
              "#0d0887"
             ],
             [
              0.1111111111111111,
              "#46039f"
             ],
             [
              0.2222222222222222,
              "#7201a8"
             ],
             [
              0.3333333333333333,
              "#9c179e"
             ],
             [
              0.4444444444444444,
              "#bd3786"
             ],
             [
              0.5555555555555556,
              "#d8576b"
             ],
             [
              0.6666666666666666,
              "#ed7953"
             ],
             [
              0.7777777777777778,
              "#fb9f3a"
             ],
             [
              0.8888888888888888,
              "#fdca26"
             ],
             [
              1,
              "#f0f921"
             ]
            ],
            "type": "surface"
           }
          ],
          "table": [
           {
            "cells": {
             "fill": {
              "color": "#EBF0F8"
             },
             "line": {
              "color": "white"
             }
            },
            "header": {
             "fill": {
              "color": "#C8D4E3"
             },
             "line": {
              "color": "white"
             }
            },
            "type": "table"
           }
          ]
         },
         "layout": {
          "annotationdefaults": {
           "arrowcolor": "#2a3f5f",
           "arrowhead": 0,
           "arrowwidth": 1
          },
          "autotypenumbers": "strict",
          "coloraxis": {
           "colorbar": {
            "outlinewidth": 0,
            "ticks": ""
           }
          },
          "colorscale": {
           "diverging": [
            [
             0,
             "#8e0152"
            ],
            [
             0.1,
             "#c51b7d"
            ],
            [
             0.2,
             "#de77ae"
            ],
            [
             0.3,
             "#f1b6da"
            ],
            [
             0.4,
             "#fde0ef"
            ],
            [
             0.5,
             "#f7f7f7"
            ],
            [
             0.6,
             "#e6f5d0"
            ],
            [
             0.7,
             "#b8e186"
            ],
            [
             0.8,
             "#7fbc41"
            ],
            [
             0.9,
             "#4d9221"
            ],
            [
             1,
             "#276419"
            ]
           ],
           "sequential": [
            [
             0,
             "#0d0887"
            ],
            [
             0.1111111111111111,
             "#46039f"
            ],
            [
             0.2222222222222222,
             "#7201a8"
            ],
            [
             0.3333333333333333,
             "#9c179e"
            ],
            [
             0.4444444444444444,
             "#bd3786"
            ],
            [
             0.5555555555555556,
             "#d8576b"
            ],
            [
             0.6666666666666666,
             "#ed7953"
            ],
            [
             0.7777777777777778,
             "#fb9f3a"
            ],
            [
             0.8888888888888888,
             "#fdca26"
            ],
            [
             1,
             "#f0f921"
            ]
           ],
           "sequentialminus": [
            [
             0,
             "#0d0887"
            ],
            [
             0.1111111111111111,
             "#46039f"
            ],
            [
             0.2222222222222222,
             "#7201a8"
            ],
            [
             0.3333333333333333,
             "#9c179e"
            ],
            [
             0.4444444444444444,
             "#bd3786"
            ],
            [
             0.5555555555555556,
             "#d8576b"
            ],
            [
             0.6666666666666666,
             "#ed7953"
            ],
            [
             0.7777777777777778,
             "#fb9f3a"
            ],
            [
             0.8888888888888888,
             "#fdca26"
            ],
            [
             1,
             "#f0f921"
            ]
           ]
          },
          "colorway": [
           "#636efa",
           "#EF553B",
           "#00cc96",
           "#ab63fa",
           "#FFA15A",
           "#19d3f3",
           "#FF6692",
           "#B6E880",
           "#FF97FF",
           "#FECB52"
          ],
          "font": {
           "color": "#2a3f5f"
          },
          "geo": {
           "bgcolor": "white",
           "lakecolor": "white",
           "landcolor": "#E5ECF6",
           "showlakes": true,
           "showland": true,
           "subunitcolor": "white"
          },
          "hoverlabel": {
           "align": "left"
          },
          "hovermode": "closest",
          "mapbox": {
           "style": "light"
          },
          "paper_bgcolor": "white",
          "plot_bgcolor": "#E5ECF6",
          "polar": {
           "angularaxis": {
            "gridcolor": "white",
            "linecolor": "white",
            "ticks": ""
           },
           "bgcolor": "#E5ECF6",
           "radialaxis": {
            "gridcolor": "white",
            "linecolor": "white",
            "ticks": ""
           }
          },
          "scene": {
           "xaxis": {
            "backgroundcolor": "#E5ECF6",
            "gridcolor": "white",
            "gridwidth": 2,
            "linecolor": "white",
            "showbackground": true,
            "ticks": "",
            "zerolinecolor": "white"
           },
           "yaxis": {
            "backgroundcolor": "#E5ECF6",
            "gridcolor": "white",
            "gridwidth": 2,
            "linecolor": "white",
            "showbackground": true,
            "ticks": "",
            "zerolinecolor": "white"
           },
           "zaxis": {
            "backgroundcolor": "#E5ECF6",
            "gridcolor": "white",
            "gridwidth": 2,
            "linecolor": "white",
            "showbackground": true,
            "ticks": "",
            "zerolinecolor": "white"
           }
          },
          "shapedefaults": {
           "line": {
            "color": "#2a3f5f"
           }
          },
          "ternary": {
           "aaxis": {
            "gridcolor": "white",
            "linecolor": "white",
            "ticks": ""
           },
           "baxis": {
            "gridcolor": "white",
            "linecolor": "white",
            "ticks": ""
           },
           "bgcolor": "#E5ECF6",
           "caxis": {
            "gridcolor": "white",
            "linecolor": "white",
            "ticks": ""
           }
          },
          "title": {
           "x": 0.05
          },
          "xaxis": {
           "automargin": true,
           "gridcolor": "white",
           "linecolor": "white",
           "ticks": "",
           "title": {
            "standoff": 15
           },
           "zerolinecolor": "white",
           "zerolinewidth": 2
          },
          "yaxis": {
           "automargin": true,
           "gridcolor": "white",
           "linecolor": "white",
           "ticks": "",
           "title": {
            "standoff": 15
           },
           "zerolinecolor": "white",
           "zerolinewidth": 2
          }
         }
        },
        "title": {
         "text": "Vertical profile over Lisbon from the DestinE's Climate DT"
        },
        "xaxis": {
         "anchor": "y",
         "domain": [
          0,
          1
         ],
         "gridwidth": 1,
         "showgrid": false,
         "showline": false,
         "title": {
          "text": "m s**-1"
         },
         "zeroline": false
        },
        "yaxis": {
         "anchor": "x",
         "autorange": "reversed",
         "domain": [
          0,
          1
         ],
         "gridcolor": "#EEEEEE",
         "linecolor": "black",
         "showgrid": true,
         "showline": true,
         "title": {
          "text": "hPa"
         },
         "zeroline": false
        }
       }
      }
     },
     "metadata": {},
     "output_type": "display_data"
    }
   ],
   "source": [
    "chart = Chart()\n",
    "fig = chart.fig\n",
    "fig['layout']['yaxis']['autorange'] = \"reversed\"\n",
    "chart.line(da, y=\"levelist\")\n",
    "chart.fig.update_layout(yaxis={\"title\": \"hPa\"})\n",
    "chart.title(\"Vertical profile over Lisbon from the DestinE's Climate DT\")\n",
    "chart.show()"
   ]
  },
  {
   "cell_type": "code",
   "execution_count": null,
   "id": "6a578f47",
   "metadata": {},
   "outputs": [],
   "source": []
  }
 ],
 "metadata": {
  "kernelspec": {
   "display_name": "earthkit_11",
   "language": "python",
   "name": "python3"
  },
  "language_info": {
   "codemirror_mode": {
    "name": "ipython",
    "version": 3
   },
   "file_extension": ".py",
   "mimetype": "text/x-python",
   "name": "python",
   "nbconvert_exporter": "python",
   "pygments_lexer": "ipython3",
   "version": "3.13.5"
  }
 },
 "nbformat": 4,
 "nbformat_minor": 5
}
