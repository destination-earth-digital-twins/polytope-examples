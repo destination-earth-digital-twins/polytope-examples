{
 "cells": [
  {
   "cell_type": "markdown",
   "id": "089adc3f-943e-4b49-bc45-9e11c737b579",
   "metadata": {},
   "source": [
    "## Polytope Climate-DT Trajectory example notebook\n",
    "\n",
    "This notebook shows how to use earthkit-data and earthkit-plots to pull destination-earth data from LUMI and plot it using earthkit-plots.\n",
    "\n",
    "Before running the notebook you need to set up your credentials. See the main readme of this repository for different ways to do this or use the following cells to authenticate.\n",
    "\n",
    "You will need to generate your credentials using the desp-authentication.py script.\n",
    "\n",
    "This can be run as follows:"
   ]
  },
  {
   "cell_type": "code",
   "execution_count": null,
   "id": "690284b8-914f-4615-9f10-d64bc0a41dfe",
   "metadata": {},
   "outputs": [],
   "source": [
    "!python3 ~/polytope-examples/desp-authentication.py -u <user_name> -p <password>"
   ]
  },
  {
   "cell_type": "markdown",
   "id": "5ac38420-9c94-464f-990a-bf8166004218",
   "metadata": {},
   "source": [
    "This will generate a token that can then be used by earthkit and polytope.\n",
    "\n",
    "You can also run the script without arguments to enter your username and password."
   ]
  },
  {
   "cell_type": "code",
   "execution_count": null,
   "id": "88643e46",
   "metadata": {},
   "outputs": [],
   "source": [
    "!python3 ~/polytope-examples/desp-authentication.py "
   ]
  },
  {
   "cell_type": "markdown",
   "id": "a44eafad-eb93-475f-9824-521473c00bb7",
   "metadata": {},
   "source": [
    "# Requirements\n",
    "To run this notebook install the following:\n",
    "* pip install earthkit-data\n",
    "* pip install earthkit-plots\n",
    "* pip install earthkit-regrid  (Optional for spectral variables)\n",
    "* pip install cf-units         (Optional for unit conversion in maps)\n",
    "\n",
    "If you do not have eccodes installed please install eccodes using conda as it is a dependency of earthkit, or install earthkit via conda\n",
    "\n",
    "* conda install eccodes -c conda-forge\n",
    "* conda install earthkit-data -c conda-forge"
   ]
  },
  {
   "cell_type": "code",
   "execution_count": null,
   "id": "b2827834-1bcf-4958-83b4-c3a6b9a70275",
   "metadata": {},
   "outputs": [],
   "source": [
    "# This request matches multiple parameter of the climate DT\n",
    " \n",
    "import earthkit.data\n",
    "\n",
    "import numpy as np\n",
    "\n",
    "n = 1000\n",
    "lons = np.linspace(0, 5*360, n)\n",
    "lats = np.linspace(-85, 85, n)\n",
    "linspace = np.stack([lats, lons], axis=1)\n",
    "pts = linspace.tolist()\n",
    "\n",
    "request = {\n",
    "    \"activity\": \"scenariomip\",\n",
    "    \"class\": \"d1\",\n",
    "    \"dataset\": \"climate-dt\",\n",
    "    \"experiment\": \"ssp3-7.0\",\n",
    "    \"generation\": \"1\",\n",
    "    \"levtype\": \"sfc\",\n",
    "    \"date\": \"20210101\",\n",
    "    \"model\": \"ifs-nemo\",\n",
    "    \"expver\": \"0001\",\n",
    "    \"param\": \"167/165\",\n",
    "    \"realization\": \"1\",\n",
    "    \"resolution\": \"high\",\n",
    "    \"stream\": \"clte\",\n",
    "    \"type\": \"fc\",\n",
    "    \"time\": \"0000\",\n",
    "    \"feature\" :{ \n",
    "        \"type\" : \"trajectory\", \n",
    "        \"points\" : pts, \n",
    "        \"inflation\" : 0.1, \n",
    "        \"inflate\" : \"round\",\n",
    "        \"axes\" :[\"latitude\", \"longitude\"], \n",
    "    },\n",
    "}\n",
    "\n",
    "ds = earthkit.data.from_source(\"polytope\", \"destination-earth\", request, stream=False, address='polytope.lumi.apps.dte.destination-earth.eu')\n"
   ]
  },
  {
   "cell_type": "code",
   "execution_count": null,
   "id": "0c76470c-e897-4747-a56d-c7c786676b52",
   "metadata": {},
   "outputs": [],
   "source": [
    "ds._json()"
   ]
  },
  {
   "cell_type": "code",
   "execution_count": null,
   "id": "411d84fc",
   "metadata": {},
   "outputs": [],
   "source": [
    "da = ds.to_xarray()\n",
    "da"
   ]
  },
  {
   "cell_type": "code",
   "execution_count": null,
   "id": "f12d8515",
   "metadata": {},
   "outputs": [],
   "source": [
    "import earthkit.plots\n",
    "\n",
    "chart = earthkit.plots.Map()\n",
    "chart.point_cloud(da['2t'], x=\"y\", y=\"x\")\n",
    "chart.coastlines()\n",
    "chart.borders()\n",
    "chart.title(\"{variable_name}\")\n",
    "chart.legend()\n",
    "chart.show()"
   ]
  },
  {
   "cell_type": "code",
   "execution_count": null,
   "id": "5d85d5eb",
   "metadata": {},
   "outputs": [],
   "source": []
  }
 ],
 "metadata": {
  "kernelspec": {
   "display_name": "polytope_venv",
   "language": "python",
   "name": "python3"
  },
  "language_info": {
   "codemirror_mode": {
    "name": "ipython",
    "version": 3
   },
   "file_extension": ".py",
   "mimetype": "text/x-python",
   "name": "python",
   "nbconvert_exporter": "python",
   "pygments_lexer": "ipython3",
   "version": "3.11.8"
  }
 },
 "nbformat": 4,
 "nbformat_minor": 5
}
