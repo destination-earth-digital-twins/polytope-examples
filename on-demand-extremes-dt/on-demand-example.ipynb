{
 "cells": [
  {
   "cell_type": "code",
   "execution_count": 1,
   "id": "690284b8-914f-4615-9f10-d64bc0a41dfe",
   "metadata": {},
   "outputs": [],
   "source": [
    "from polytope.api import Client\n",
    "\n",
    "polytope_address=\"polytope.lumi.apps.dte.destination-earth.eu\"\n",
    "client = Client(address=polytope_address)"
   ]
  },
  {
   "cell_type": "code",
   "execution_count": 2,
   "id": "03aefa59-f0c9-4fdd-9e09-54de92e2ead6",
   "metadata": {},
   "outputs": [
    {
     "name": "stderr",
     "output_type": "stream",
     "text": [
      "2025-06-16 08:40:37 - INFO - Key read from /home/a000864/.polytopeapirc\n",
      "2025-06-16 08:40:37 - INFO - Sending request...\n",
      "{'request': 'class: d1\\n'\n",
      "            'dataset: on-demand-extremes-dt\\n'\n",
      "            \"date: '20250530'\\n\"\n",
      "            'expver: ulfs\\n'\n",
      "            'georef: ezjukc\\n'\n",
      "            'levtype: sfc\\n'\n",
      "            'param: 167\\n'\n",
      "            'step: 6\\n'\n",
      "            'stream: oper\\n'\n",
      "            'time: 0\\n'\n",
      "            'type: fc\\n',\n",
      " 'verb': 'retrieve'}\n",
      "2025-06-16 08:40:37 - INFO - Polytope user key found in session cache for user a000864\n",
      "2025-06-16 08:42:48 - WARNING - Recovering from connection error.\n",
      "HTTPSConnectionPool(host='polytope.lumi.apps.dte.destination-earth.eu', port=443): Max retries exceeded with url: /api/v1/requests/destination-earth (Caused by ConnectTimeoutError(<urllib3.connection.HTTPSConnection object at 0x7f1a06d7a410>, 'Connection to polytope.lumi.apps.dte.destination-earth.eu timed out. (connect timeout=None)'))\n",
      "2025-06-16 08:42:48 - INFO - Attempt 1 of 10\n",
      "2025-06-16 08:42:48 - INFO - Next retry in 120 seconds\n",
      "2025-06-16 08:46:58 - WARNING - Recovering from connection error.\n",
      "HTTPSConnectionPool(host='polytope.lumi.apps.dte.destination-earth.eu', port=443): Max retries exceeded with url: /api/v1/requests/destination-earth (Caused by ConnectTimeoutError(<urllib3.connection.HTTPSConnection object at 0x7f1a06d7ace0>, 'Connection to polytope.lumi.apps.dte.destination-earth.eu timed out. (connect timeout=None)'))\n",
      "2025-06-16 08:46:58 - INFO - Attempt 2 of 10\n",
      "2025-06-16 08:46:58 - INFO - Next retry in 120 seconds\n",
      "2025-06-16 08:49:40 - WARNING - Recovering from connection error.\n",
      "HTTPSConnectionPool(host='polytope.lumi.apps.dte.destination-earth.eu', port=443): Max retries exceeded with url: /api/v1/requests/destination-earth (Caused by NameResolutionError(\"<urllib3.connection.HTTPSConnection object at 0x7f1a06d7b4c0>: Failed to resolve 'polytope.lumi.apps.dte.destination-earth.eu' ([Errno -3] Temporary failure in name resolution)\"))\n",
      "2025-06-16 08:49:40 - INFO - Attempt 3 of 10\n",
      "2025-06-16 08:49:40 - INFO - Next retry in 120 seconds\n",
      "2025-06-16 08:52:25 - WARNING - Recovering from connection error.\n",
      "HTTPSConnectionPool(host='polytope.lumi.apps.dte.destination-earth.eu', port=443): Max retries exceeded with url: /api/v1/requests/destination-earth (Caused by NameResolutionError(\"<urllib3.connection.HTTPSConnection object at 0x7f1a06d7bcd0>: Failed to resolve 'polytope.lumi.apps.dte.destination-earth.eu' ([Errno -3] Temporary failure in name resolution)\"))\n",
      "2025-06-16 08:52:25 - INFO - Attempt 4 of 10\n",
      "2025-06-16 08:52:25 - INFO - Next retry in 120 seconds\n",
      "2025-06-16 08:54:25 - WARNING - Recovering from connection error.\n",
      "HTTPSConnectionPool(host='polytope.lumi.apps.dte.destination-earth.eu', port=443): Max retries exceeded with url: /api/v1/requests/destination-earth (Caused by NameResolutionError(\"<urllib3.connection.HTTPSConnection object at 0x7f1a06d7aec0>: Failed to resolve 'polytope.lumi.apps.dte.destination-earth.eu' ([Errno -3] Temporary failure in name resolution)\"))\n",
      "2025-06-16 08:54:25 - INFO - Attempt 5 of 10\n",
      "2025-06-16 08:54:25 - INFO - Next retry in 120 seconds\n",
      "2025-06-16 08:56:25 - WARNING - Recovering from connection error.\n",
      "HTTPSConnectionPool(host='polytope.lumi.apps.dte.destination-earth.eu', port=443): Max retries exceeded with url: /api/v1/requests/destination-earth (Caused by NameResolutionError(\"<urllib3.connection.HTTPSConnection object at 0x7f1a06d7a920>: Failed to resolve 'polytope.lumi.apps.dte.destination-earth.eu' ([Errno -3] Temporary failure in name resolution)\"))\n",
      "2025-06-16 08:56:25 - INFO - Attempt 6 of 10\n",
      "2025-06-16 08:56:25 - INFO - Next retry in 120 seconds\n",
      "2025-06-16 08:58:25 - WARNING - Recovering from connection error.\n",
      "HTTPSConnectionPool(host='polytope.lumi.apps.dte.destination-earth.eu', port=443): Max retries exceeded with url: /api/v1/requests/destination-earth (Caused by NameResolutionError(\"<urllib3.connection.HTTPSConnection object at 0x7f1a06d7a4a0>: Failed to resolve 'polytope.lumi.apps.dte.destination-earth.eu' ([Errno -3] Temporary failure in name resolution)\"))\n",
      "2025-06-16 08:58:25 - INFO - Attempt 7 of 10\n",
      "2025-06-16 08:58:25 - INFO - Next retry in 120 seconds\n",
      "2025-06-16 09:00:25 - WARNING - Recovering from connection error.\n",
      "HTTPSConnectionPool(host='polytope.lumi.apps.dte.destination-earth.eu', port=443): Max retries exceeded with url: /api/v1/requests/destination-earth (Caused by NameResolutionError(\"<urllib3.connection.HTTPSConnection object at 0x7f1a06bc4640>: Failed to resolve 'polytope.lumi.apps.dte.destination-earth.eu' ([Errno -3] Temporary failure in name resolution)\"))\n",
      "2025-06-16 09:00:25 - INFO - Attempt 8 of 10\n",
      "2025-06-16 09:00:25 - INFO - Next retry in 120 seconds\n",
      "2025-06-16 09:04:35 - WARNING - Recovering from connection error.\n",
      "HTTPSConnectionPool(host='polytope.lumi.apps.dte.destination-earth.eu', port=443): Max retries exceeded with url: /api/v1/requests/destination-earth (Caused by ConnectTimeoutError(<urllib3.connection.HTTPSConnection object at 0x7f1a06bc4e80>, 'Connection to polytope.lumi.apps.dte.destination-earth.eu timed out. (connect timeout=None)'))\n",
      "2025-06-16 09:04:35 - INFO - Attempt 9 of 10\n",
      "2025-06-16 09:04:35 - INFO - Next retry in 120 seconds\n",
      "2025-06-16 09:08:45 - WARNING - Recovering from connection error.\n",
      "HTTPSConnectionPool(host='polytope.lumi.apps.dte.destination-earth.eu', port=443): Max retries exceeded with url: /api/v1/requests/destination-earth (Caused by ConnectTimeoutError(<urllib3.connection.HTTPSConnection object at 0x7f1a06d79db0>, 'Connection to polytope.lumi.apps.dte.destination-earth.eu timed out. (connect timeout=None)'))\n",
      "2025-06-16 09:08:45 - INFO - Attempt 10 of 10\n",
      "2025-06-16 09:08:45 - INFO - Next retry in 120 seconds\n",
      "2025-06-16 09:10:45 - WARNING - Maximum HTTP request retries reached\n"
     ]
    },
    {
     "ename": "GivenUpRequestError",
     "evalue": "Polytope error\nSituation: trying to submit a retrieval request\nDescription: Stopped attempting HTTP request after exceeding the maximum of 10 failed attempts (caused by connection errors or other HTTP errors where retrial is sensible).\nURL: https://polytope.lumi.apps.dte.destination-earth.eu:443/api/v1/requests/destination-earth\nHTTP method: POST\nRequest header/body contents:\n{'headers': {'Authorization': 'EmailKey **********8e65'}, 'json': {'verb': 'retrieve', 'request': \"class: d1\\ndataset: on-demand-extremes-dt\\ndate: '20250530'\\nexpver: ulfs\\ngeoref: ezjukc\\nlevtype: sfc\\nparam: 167\\nstep: 6\\nstream: oper\\ntime: 0\\ntype: fc\\n\"}}",
     "output_type": "error",
     "traceback": [
      "\u001b[0;31m---------------------------------------------------------------------------\u001b[0m",
      "\u001b[0;31mGivenUpRequestError\u001b[0m                       Traceback (most recent call last)",
      "Cell \u001b[0;32mIn[2], line 16\u001b[0m\n\u001b[1;32m      1\u001b[0m \u001b[38;5;28;01mimport\u001b[39;00m\u001b[38;5;250m \u001b[39m\u001b[38;5;21;01mearthkit\u001b[39;00m\u001b[38;5;21;01m.\u001b[39;00m\u001b[38;5;21;01mdata\u001b[39;00m\n\u001b[1;32m      3\u001b[0m request \u001b[38;5;241m=\u001b[39m {\n\u001b[1;32m      4\u001b[0m     \u001b[38;5;124m'\u001b[39m\u001b[38;5;124mclass\u001b[39m\u001b[38;5;124m'\u001b[39m: \u001b[38;5;124m'\u001b[39m\u001b[38;5;124md1\u001b[39m\u001b[38;5;124m'\u001b[39m,\n\u001b[1;32m      5\u001b[0m     \u001b[38;5;124m'\u001b[39m\u001b[38;5;124mdataset\u001b[39m\u001b[38;5;124m'\u001b[39m: \u001b[38;5;124m'\u001b[39m\u001b[38;5;124mon-demand-extremes-dt\u001b[39m\u001b[38;5;124m'\u001b[39m,\n\u001b[0;32m   (...)\u001b[0m\n\u001b[1;32m     14\u001b[0m     \u001b[38;5;124m'\u001b[39m\u001b[38;5;124mparam\u001b[39m\u001b[38;5;124m'\u001b[39m: \u001b[38;5;241m167\u001b[39m\n\u001b[1;32m     15\u001b[0m }\n\u001b[0;32m---> 16\u001b[0m data \u001b[38;5;241m=\u001b[39m \u001b[43mearthkit\u001b[49m\u001b[38;5;241;43m.\u001b[39;49m\u001b[43mdata\u001b[49m\u001b[38;5;241;43m.\u001b[39;49m\u001b[43mfrom_source\u001b[49m\u001b[43m(\u001b[49m\u001b[38;5;124;43m\"\u001b[39;49m\u001b[38;5;124;43mpolytope\u001b[39;49m\u001b[38;5;124;43m\"\u001b[39;49m\u001b[43m,\u001b[49m\u001b[43m \u001b[49m\u001b[38;5;124;43m\"\u001b[39;49m\u001b[38;5;124;43mdestination-earth\u001b[39;49m\u001b[38;5;124;43m\"\u001b[39;49m\u001b[43m,\u001b[49m\u001b[43m \u001b[49m\u001b[43mrequest\u001b[49m\u001b[43m,\u001b[49m\u001b[43m \u001b[49m\u001b[43maddress\u001b[49m\u001b[38;5;241;43m=\u001b[39;49m\u001b[43mpolytope_address\u001b[49m\u001b[43m,\u001b[49m\u001b[43m \u001b[49m\u001b[43mstream\u001b[49m\u001b[38;5;241;43m=\u001b[39;49m\u001b[38;5;28;43;01mFalse\u001b[39;49;00m\u001b[43m)\u001b[49m\n",
      "File \u001b[0;32m~/micromamba/envs/polytope/lib/python3.10/site-packages/earthkit/data/sources/__init__.py:161\u001b[0m, in \u001b[0;36mfrom_source\u001b[0;34m(name, lazily, *args, **kwargs)\u001b[0m\n\u001b[1;32m    159\u001b[0m \u001b[38;5;28;01mwhile\u001b[39;00m src \u001b[38;5;129;01mis\u001b[39;00m \u001b[38;5;129;01mnot\u001b[39;00m prev:\n\u001b[1;32m    160\u001b[0m     prev \u001b[38;5;241m=\u001b[39m src\n\u001b[0;32m--> 161\u001b[0m     src \u001b[38;5;241m=\u001b[39m \u001b[43msrc\u001b[49m\u001b[38;5;241;43m.\u001b[39;49m\u001b[43mmutate\u001b[49m\u001b[43m(\u001b[49m\u001b[43m)\u001b[49m\n\u001b[1;32m    162\u001b[0m \u001b[38;5;28;01mreturn\u001b[39;00m src\n",
      "File \u001b[0;32m~/micromamba/envs/polytope/lib/python3.10/site-packages/earthkit/data/sources/polytope.py:91\u001b[0m, in \u001b[0;36mPolytope.mutate\u001b[0;34m(self)\u001b[0m\n\u001b[1;32m     90\u001b[0m \u001b[38;5;28;01mdef\u001b[39;00m\u001b[38;5;250m \u001b[39m\u001b[38;5;21mmutate\u001b[39m(\u001b[38;5;28mself\u001b[39m) \u001b[38;5;241m-\u001b[39m\u001b[38;5;241m>\u001b[39m Source:\n\u001b[0;32m---> 91\u001b[0m     pointers \u001b[38;5;241m=\u001b[39m \u001b[38;5;28;43mself\u001b[39;49m\u001b[38;5;241;43m.\u001b[39;49m\u001b[43mclient\u001b[49m\u001b[38;5;241;43m.\u001b[39;49m\u001b[43mretrieve\u001b[49m\u001b[43m(\u001b[49m\n\u001b[1;32m     92\u001b[0m \u001b[43m        \u001b[49m\u001b[38;5;28;43mself\u001b[39;49m\u001b[38;5;241;43m.\u001b[39;49m\u001b[43mrequest\u001b[49m\u001b[43m[\u001b[49m\u001b[38;5;124;43m\"\u001b[39;49m\u001b[38;5;124;43mdataset\u001b[39;49m\u001b[38;5;124;43m\"\u001b[39;49m\u001b[43m]\u001b[49m\u001b[43m,\u001b[49m\n\u001b[1;32m     93\u001b[0m \u001b[43m        \u001b[49m\u001b[38;5;28;43mself\u001b[39;49m\u001b[38;5;241;43m.\u001b[39;49m\u001b[43mrequest\u001b[49m\u001b[43m[\u001b[49m\u001b[38;5;124;43m\"\u001b[39;49m\u001b[38;5;124;43mrequest\u001b[39;49m\u001b[38;5;124;43m\"\u001b[39;49m\u001b[43m]\u001b[49m\u001b[43m,\u001b[49m\n\u001b[1;32m     94\u001b[0m \u001b[43m        \u001b[49m\u001b[43mpointer\u001b[49m\u001b[38;5;241;43m=\u001b[39;49m\u001b[38;5;28;43;01mTrue\u001b[39;49;00m\u001b[43m,\u001b[49m\n\u001b[1;32m     95\u001b[0m \u001b[43m        \u001b[49m\u001b[43masynchronous\u001b[49m\u001b[38;5;241;43m=\u001b[39;49m\u001b[38;5;28;43;01mFalse\u001b[39;49;00m\u001b[43m,\u001b[49m\n\u001b[1;32m     96\u001b[0m \u001b[43m    \u001b[49m\u001b[43m)\u001b[49m\n\u001b[1;32m     98\u001b[0m     urls \u001b[38;5;241m=\u001b[39m [p[\u001b[38;5;124m\"\u001b[39m\u001b[38;5;124mlocation\u001b[39m\u001b[38;5;124m\"\u001b[39m] \u001b[38;5;28;01mfor\u001b[39;00m p \u001b[38;5;129;01min\u001b[39;00m pointers]\n\u001b[1;32m     99\u001b[0m     LOG\u001b[38;5;241m.\u001b[39mdebug(\u001b[38;5;124mf\u001b[39m\u001b[38;5;124m\"\u001b[39m\u001b[38;5;132;01m{\u001b[39;00murls\u001b[38;5;132;01m=}\u001b[39;00m\u001b[38;5;124m\"\u001b[39m)\n",
      "File \u001b[0;32m~/micromamba/envs/polytope/lib/python3.10/site-packages/polytope/api/helpers.py:197\u001b[0m, in \u001b[0;36mwraps.<locals>.wrapper.<locals>.decorated\u001b[0;34m(self, *args, **kwargs)\u001b[0m\n\u001b[1;32m    196\u001b[0m \u001b[38;5;28;01mdef\u001b[39;00m\u001b[38;5;250m \u001b[39m\u001b[38;5;21mdecorated\u001b[39m(\u001b[38;5;28mself\u001b[39m, \u001b[38;5;241m*\u001b[39margs, \u001b[38;5;241m*\u001b[39m\u001b[38;5;241m*\u001b[39mkwargs):\n\u001b[0;32m--> 197\u001b[0m     \u001b[38;5;28;01mreturn\u001b[39;00m \u001b[43mfun\u001b[49m\u001b[43m(\u001b[49m\u001b[38;5;28;43mself\u001b[39;49m\u001b[43m,\u001b[49m\u001b[43m \u001b[49m\u001b[38;5;241;43m*\u001b[39;49m\u001b[43margs\u001b[49m\u001b[43m,\u001b[49m\u001b[43m \u001b[49m\u001b[38;5;241;43m*\u001b[39;49m\u001b[38;5;241;43m*\u001b[39;49m\u001b[43mkwargs\u001b[49m\u001b[43m)\u001b[49m\n",
      "File \u001b[0;32m~/micromamba/envs/polytope/lib/python3.10/site-packages/polytope/api/helpers.py:229\u001b[0m, in \u001b[0;36mauthenticated.<locals>.decorated\u001b[0;34m(self, *args, **kwargs)\u001b[0m\n\u001b[1;32m    227\u001b[0m     \u001b[38;5;28;01mraise\u001b[39;00m e\n\u001b[1;32m    228\u001b[0m \u001b[38;5;66;03m# try:\u001b[39;00m\n\u001b[0;32m--> 229\u001b[0m \u001b[38;5;28;01mreturn\u001b[39;00m \u001b[43mmethod\u001b[49m\u001b[43m(\u001b[49m\u001b[38;5;28;43mself\u001b[39;49m\u001b[43m,\u001b[49m\u001b[43m \u001b[49m\u001b[38;5;241;43m*\u001b[39;49m\u001b[43margs\u001b[49m\u001b[43m,\u001b[49m\u001b[43m \u001b[49m\u001b[38;5;241;43m*\u001b[39;49m\u001b[38;5;241;43m*\u001b[39;49m\u001b[43mkwargs\u001b[49m\u001b[43m)\u001b[49m\n",
      "File \u001b[0;32m~/micromamba/envs/polytope/lib/python3.10/site-packages/polytope/api/helpers.py:197\u001b[0m, in \u001b[0;36mwraps.<locals>.wrapper.<locals>.decorated\u001b[0;34m(self, *args, **kwargs)\u001b[0m\n\u001b[1;32m    196\u001b[0m \u001b[38;5;28;01mdef\u001b[39;00m\u001b[38;5;250m \u001b[39m\u001b[38;5;21mdecorated\u001b[39m(\u001b[38;5;28mself\u001b[39m, \u001b[38;5;241m*\u001b[39margs, \u001b[38;5;241m*\u001b[39m\u001b[38;5;241m*\u001b[39mkwargs):\n\u001b[0;32m--> 197\u001b[0m     \u001b[38;5;28;01mreturn\u001b[39;00m \u001b[43mfun\u001b[49m\u001b[43m(\u001b[49m\u001b[38;5;28;43mself\u001b[39;49m\u001b[43m,\u001b[49m\u001b[43m \u001b[49m\u001b[38;5;241;43m*\u001b[39;49m\u001b[43margs\u001b[49m\u001b[43m,\u001b[49m\u001b[43m \u001b[49m\u001b[38;5;241;43m*\u001b[39;49m\u001b[38;5;241;43m*\u001b[39;49m\u001b[43mkwargs\u001b[49m\u001b[43m)\u001b[49m\n",
      "File \u001b[0;32m~/micromamba/envs/polytope/lib/python3.10/site-packages/polytope/api/Client.py:202\u001b[0m, in \u001b[0;36mClient.retrieve\u001b[0;34m(self, *args, **kwargs)\u001b[0m\n\u001b[1;32m    199\u001b[0m \u001b[38;5;129m@authenticated\u001b[39m\n\u001b[1;32m    200\u001b[0m \u001b[38;5;129m@wraps\u001b[39m(RequestManager\u001b[38;5;241m.\u001b[39mretrieve)\n\u001b[1;32m    201\u001b[0m \u001b[38;5;28;01mdef\u001b[39;00m\u001b[38;5;250m \u001b[39m\u001b[38;5;21mretrieve\u001b[39m(\u001b[38;5;28mself\u001b[39m, \u001b[38;5;241m*\u001b[39margs, \u001b[38;5;241m*\u001b[39m\u001b[38;5;241m*\u001b[39mkwargs):\n\u001b[0;32m--> 202\u001b[0m     \u001b[38;5;28;01mreturn\u001b[39;00m \u001b[38;5;28;43mself\u001b[39;49m\u001b[38;5;241;43m.\u001b[39;49m\u001b[43mrequest_manager\u001b[49m\u001b[38;5;241;43m.\u001b[39;49m\u001b[43mretrieve\u001b[49m\u001b[43m(\u001b[49m\u001b[38;5;241;43m*\u001b[39;49m\u001b[43margs\u001b[49m\u001b[43m,\u001b[49m\u001b[43m \u001b[49m\u001b[38;5;241;43m*\u001b[39;49m\u001b[38;5;241;43m*\u001b[39;49m\u001b[43mkwargs\u001b[49m\u001b[43m)\u001b[49m\n",
      "File \u001b[0;32m~/micromamba/envs/polytope/lib/python3.10/site-packages/polytope/api/RequestManager.py:368\u001b[0m, in \u001b[0;36mRequestManager.retrieve\u001b[0;34m(self, name, request, output_file, inline_request, asynchronous, max_attempts, attempt_period, append, pointer)\u001b[0m\n\u001b[1;32m    364\u001b[0m expected_responses \u001b[38;5;241m=\u001b[39m [requests\u001b[38;5;241m.\u001b[39mcodes\u001b[38;5;241m.\u001b[39mok, requests\u001b[38;5;241m.\u001b[39mcodes\u001b[38;5;241m.\u001b[39maccepted, requests\u001b[38;5;241m.\u001b[39mcodes\u001b[38;5;241m.\u001b[39mno_content]\n\u001b[1;32m    365\u001b[0m \u001b[38;5;66;03m# also requests.codes.other, implicitly handled by requests\u001b[39;00m\n\u001b[1;32m    366\u001b[0m \u001b[38;5;66;03m# when POSTing to a URL with redirection, requests will do a GET\u001b[39;00m\n\u001b[1;32m    367\u001b[0m \u001b[38;5;66;03m# against the new URL\u001b[39;00m\n\u001b[0;32m--> 368\u001b[0m response, response_messages \u001b[38;5;241m=\u001b[39m \u001b[43mhelpers\u001b[49m\u001b[38;5;241;43m.\u001b[39;49m\u001b[43mtry_request\u001b[49m\u001b[43m(\u001b[49m\n\u001b[1;32m    369\u001b[0m \u001b[43m    \u001b[49m\u001b[43mmethod\u001b[49m\u001b[43m,\u001b[49m\n\u001b[1;32m    370\u001b[0m \u001b[43m    \u001b[49m\u001b[43msituation\u001b[49m\u001b[38;5;241;43m=\u001b[39;49m\u001b[43msituation\u001b[49m\u001b[43m,\u001b[49m\n\u001b[1;32m    371\u001b[0m \u001b[43m    \u001b[49m\u001b[43mexpected\u001b[49m\u001b[38;5;241;43m=\u001b[39;49m\u001b[43mexpected_responses\u001b[49m\u001b[43m,\u001b[49m\n\u001b[1;32m    372\u001b[0m \u001b[43m    \u001b[49m\u001b[43mlogger\u001b[49m\u001b[38;5;241;43m=\u001b[39;49m\u001b[38;5;28;43mself\u001b[39;49m\u001b[38;5;241;43m.\u001b[39;49m\u001b[43m_logger\u001b[49m\u001b[43m,\u001b[49m\n\u001b[1;32m    373\u001b[0m \u001b[43m    \u001b[49m\u001b[43murl\u001b[49m\u001b[38;5;241;43m=\u001b[39;49m\u001b[43murl\u001b[49m\u001b[43m,\u001b[49m\n\u001b[1;32m    374\u001b[0m \u001b[43m    \u001b[49m\u001b[43mheaders\u001b[49m\u001b[38;5;241;43m=\u001b[39;49m\u001b[43mheaders\u001b[49m\u001b[43m,\u001b[49m\n\u001b[1;32m    375\u001b[0m \u001b[43m    \u001b[49m\u001b[43mjson\u001b[49m\u001b[38;5;241;43m=\u001b[39;49m\u001b[43mrequest_object\u001b[49m\u001b[43m,\u001b[49m\n\u001b[1;32m    376\u001b[0m \u001b[43m    \u001b[49m\u001b[43mstream\u001b[49m\u001b[38;5;241;43m=\u001b[39;49m\u001b[38;5;28;43;01mTrue\u001b[39;49;00m\u001b[43m,\u001b[49m\n\u001b[1;32m    377\u001b[0m \u001b[43m    \u001b[49m\u001b[43mskip_tls\u001b[49m\u001b[38;5;241;43m=\u001b[39;49m\u001b[38;5;28;43mself\u001b[39;49m\u001b[38;5;241;43m.\u001b[39;49m\u001b[43mconfig\u001b[49m\u001b[38;5;241;43m.\u001b[39;49m\u001b[43mget\u001b[49m\u001b[43m(\u001b[49m\u001b[43m)\u001b[49m\u001b[43m[\u001b[49m\u001b[38;5;124;43m\"\u001b[39;49m\u001b[38;5;124;43mskip_tls\u001b[39;49m\u001b[38;5;124;43m\"\u001b[39;49m\u001b[43m]\u001b[49m\u001b[43m,\u001b[49m\n\u001b[1;32m    378\u001b[0m \u001b[43m\u001b[49m\u001b[43m)\u001b[49m\n\u001b[1;32m    379\u001b[0m \u001b[38;5;66;03m# According to 'REST API, Copernicus CDS, 02/06/2019':\u001b[39;00m\n\u001b[1;32m    380\u001b[0m \u001b[38;5;66;03m# 303 see other: redirection to direct download endpoint\u001b[39;00m\n\u001b[1;32m    381\u001b[0m \u001b[38;5;66;03m# 202 accepted: redirection to polling endpoint\u001b[39;00m\n\u001b[1;32m    382\u001b[0m \u001b[38;5;66;03m# 200 ok: direct Json or binary data\u001b[39;00m\n\u001b[1;32m    383\u001b[0m \u001b[38;5;28;01mif\u001b[39;00m response\u001b[38;5;241m.\u001b[39mstatus_code \u001b[38;5;241m==\u001b[39m requests\u001b[38;5;241m.\u001b[39mcodes\u001b[38;5;241m.\u001b[39mok:\n",
      "File \u001b[0;32m~/micromamba/envs/polytope/lib/python3.10/site-packages/polytope/api/helpers.py:591\u001b[0m, in \u001b[0;36mtry_request\u001b[0;34m(method, situation, expected, logger, stream, skip_tls, **kwargs)\u001b[0m\n\u001b[1;32m    583\u001b[0m     e \u001b[38;5;241m=\u001b[39m GivenUpRequestError(\n\u001b[1;32m    584\u001b[0m         situation\u001b[38;5;241m=\u001b[39msituation,\n\u001b[1;32m    585\u001b[0m         url\u001b[38;5;241m=\u001b[39mkwargs\u001b[38;5;241m.\u001b[39mget(\u001b[38;5;124m\"\u001b[39m\u001b[38;5;124murl\u001b[39m\u001b[38;5;124m\"\u001b[39m),\n\u001b[0;32m   (...)\u001b[0m\n\u001b[1;32m    588\u001b[0m         attempts\u001b[38;5;241m=\u001b[39mmax_attempts,\n\u001b[1;32m    589\u001b[0m     )\n\u001b[1;32m    590\u001b[0m     logger\u001b[38;5;241m.\u001b[39mwarning(\u001b[38;5;124m\"\u001b[39m\u001b[38;5;124mMaximum HTTP request retries reached\u001b[39m\u001b[38;5;124m\"\u001b[39m)\n\u001b[0;32m--> 591\u001b[0m     \u001b[38;5;28;01mraise\u001b[39;00m e\n\u001b[1;32m    593\u001b[0m response_title, response_messages \u001b[38;5;241m=\u001b[39m process_response(\n\u001b[1;32m    594\u001b[0m     response, situation, url, method, stream, request_content, expected\n\u001b[1;32m    595\u001b[0m )\n\u001b[1;32m    597\u001b[0m logger\u001b[38;5;241m.\u001b[39mdebug(\u001b[38;5;124m\"\u001b[39m\u001b[38;5;124mPolytope client received HTTP \u001b[39m\u001b[38;5;124m\"\u001b[39m \u001b[38;5;241m+\u001b[39m response_title)\n",
      "\u001b[0;31mGivenUpRequestError\u001b[0m: Polytope error\nSituation: trying to submit a retrieval request\nDescription: Stopped attempting HTTP request after exceeding the maximum of 10 failed attempts (caused by connection errors or other HTTP errors where retrial is sensible).\nURL: https://polytope.lumi.apps.dte.destination-earth.eu:443/api/v1/requests/destination-earth\nHTTP method: POST\nRequest header/body contents:\n{'headers': {'Authorization': 'EmailKey **********8e65'}, 'json': {'verb': 'retrieve', 'request': \"class: d1\\ndataset: on-demand-extremes-dt\\ndate: '20250530'\\nexpver: ulfs\\ngeoref: ezjukc\\nlevtype: sfc\\nparam: 167\\nstep: 6\\nstream: oper\\ntime: 0\\ntype: fc\\n\"}}"
     ]
    }
   ],
   "source": [
    "import earthkit.data\n",
    "\n",
    "request = {\n",
    "    'class': 'd1',\n",
    "    'dataset': 'on-demand-extremes-dt',\n",
    "    'expver': 'ulfs',\n",
    "    'stream': 'oper',\n",
    "    'date': '20250530',\n",
    "    'time': 0,\n",
    "    'type': 'fc',\n",
    "    'levtype': 'sfc',\n",
    "    'georef': 'ezjukc',\n",
    "    'step': 6,\n",
    "    'param': 167\n",
    "}\n",
    "data = earthkit.data.from_source(\"polytope\", \"destination-earth\", request, address=polytope_address, stream=False)"
   ]
  },
  {
   "cell_type": "code",
   "execution_count": null,
   "id": "88860a09-4922-44e2-bda5-29c5f4f33321",
   "metadata": {},
   "outputs": [],
   "source": [
    "data.ls()"
   ]
  },
  {
   "cell_type": "code",
   "execution_count": null,
   "id": "51d059a1",
   "metadata": {},
   "outputs": [],
   "source": [
    "import earthkit.plots\n",
    "chart = earthkit.plots.Map()\n",
    "chart.quickplot(data)\n",
    "chart.title(f\"Temperature at 2m from on-demand-extremes-dt\")\n",
    "chart.coastlines()\n",
    "chart.gridlines()\n",
    "chart.legend()\n",
    "chart.show()"
   ]
  },
  {
   "cell_type": "code",
   "execution_count": null,
   "id": "c0a7ec98-fb1e-41ee-82ac-02e99de54eb7",
   "metadata": {},
   "outputs": [],
   "source": []
  }
 ],
 "metadata": {
  "kernelspec": {
   "display_name": "Python 3 (ipykernel)",
   "language": "python",
   "name": "python3"
  },
  "language_info": {
   "codemirror_mode": {
    "name": "ipython",
    "version": 3
   },
   "file_extension": ".py",
   "mimetype": "text/x-python",
   "name": "python",
   "nbconvert_exporter": "python",
   "pygments_lexer": "ipython3",
   "version": "3.10.17"
  }
 },
 "nbformat": 4,
 "nbformat_minor": 5
}
