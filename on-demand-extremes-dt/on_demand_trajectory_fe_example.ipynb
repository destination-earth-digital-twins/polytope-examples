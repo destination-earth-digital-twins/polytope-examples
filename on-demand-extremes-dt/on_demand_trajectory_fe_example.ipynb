{
 "cells": [
  {
   "cell_type": "code",
   "execution_count": null,
   "id": "fc3c5b9d",
   "metadata": {},
   "outputs": [],
   "source": [
    "import earthkit.data"
   ]
  },
  {
   "cell_type": "code",
   "execution_count": null,
   "id": "c871010b",
   "metadata": {},
   "outputs": [],
   "source": [
    "train_route = []\n",
    "\n",
    "# Inverness\n",
    "train_route.append([57.479, 360-4.223])\n",
    "\n",
    "# Perth\n",
    "train_route.append([56.395, 360-3.435])\n",
    "\n",
    "# Edinburg Waverley\n",
    "train_route.append([55.952, 360-3.189])\n",
    "\n",
    "# Carlisle\n",
    "train_route.append([54.892, 360-2.933])\n",
    "\n",
    "# Lancaster\n",
    "train_route.append([54.047, 360-2.808])\n",
    "\n",
    "# Preston\n",
    "train_route.append([53.757, 360-2.703])\n",
    "\n",
    "# Crewe\n",
    "train_route.append([53.089, 360-2.435])\n",
    "\n",
    "# Birmingham New Street\n",
    "train_route.append([52.478, 360-1.899])\n",
    "\n"
   ]
  },
  {
   "cell_type": "code",
   "execution_count": null,
   "id": "063d97c6",
   "metadata": {},
   "outputs": [],
   "source": [
    "request = {\n",
    "    \"class\": \"d1\",\n",
    "    \"dataset\": \"on-demand-extremes-dt\",\n",
    "    \"stream\": \"oper\",\n",
    "    \"type\": \"fc\",\n",
    "    \"date\": \"20250926\",\n",
    "    \"time\": \"0000\",\n",
    "    \"levtype\": \"sfc\",\n",
    "    \"expver\": \"0099\",\n",
    "    \"param\": \"167\",\n",
    "    \"step\": \"1\",\n",
    "    \"feature\" :{ \n",
    "        \"type\" : \"trajectory\", \n",
    "        \"points\" : train_route, \n",
    "        \"inflation\" : 0.01, \n",
    "        \"inflate\" : \"round\",\n",
    "        \"axes\" :[\"latitude\", \"longitude\"], \n",
    "    },\n",
    "}\n"
   ]
  },
  {
   "cell_type": "code",
   "execution_count": null,
   "id": "354d75d9",
   "metadata": {},
   "outputs": [],
   "source": [
    "data = earthkit.data.from_source(\"polytope\", \"destination-earth\", request,\n",
    "                               stream=False,\n",
    "                               address=\"polytope-test.lumi.apps.dte.destination-earth.eu\",\n",
    "                               )"
   ]
  },
  {
   "cell_type": "code",
   "execution_count": null,
   "id": "ee45f765",
   "metadata": {},
   "outputs": [],
   "source": [
    "ds = data.to_xarray()\n",
    "\n",
    "ds"
   ]
  },
  {
   "cell_type": "code",
   "execution_count": null,
   "id": "aefbf1af",
   "metadata": {},
   "outputs": [],
   "source": [
    "import earthkit.plots\n",
    "chart = earthkit.plots.Map(domain=[\"Ireland\", \"United Kingdom\"])\n",
    "chart.point_cloud(\n",
    "    ds['2t'],\n",
    "    x=\"longitude\",\n",
    "    y=\"latitude\",\n",
    ")\n",
    "chart.title(f\"Results from on-demand-extremes-dt\")\n",
    "chart.coastlines()\n",
    "chart.gridlines()\n",
    "chart.legend()\n",
    "chart.show()"
   ]
  }
 ],
 "metadata": {
  "kernelspec": {
   "display_name": ".venv",
   "language": "python",
   "name": "python3"
  },
  "language_info": {
   "codemirror_mode": {
    "name": "ipython",
    "version": 3
   },
   "file_extension": ".py",
   "mimetype": "text/x-python",
   "name": "python",
   "nbconvert_exporter": "python",
   "pygments_lexer": "ipython3",
   "version": "3.13.5"
  }
 },
 "nbformat": 4,
 "nbformat_minor": 5
}
