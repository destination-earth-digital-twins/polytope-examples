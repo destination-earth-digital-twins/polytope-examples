{
 "cells": [
  {
   "cell_type": "code",
   "execution_count": null,
   "id": "fc3c5b9d",
   "metadata": {},
   "outputs": [],
   "source": [
    "import earthkit.data\n",
    "\n",
    "from earthkit.geo import cartography"
   ]
  },
  {
   "cell_type": "code",
   "execution_count": null,
   "id": "c871010b",
   "metadata": {},
   "outputs": [],
   "source": [
    "countries = [\"Ireland\"] # List of countries\n",
    "shapes = cartography.country_polygons(countries, resolution=500e5)\n",
    "\n",
    "print(len(shapes[0]))\n",
    "\n",
    "for shape in shapes:\n",
    "    for point in shape:\n",
    "        lon = point[1]\n",
    "        if lon < 0:\n",
    "            point[1] = lon + 360\n"
   ]
  },
  {
   "cell_type": "code",
   "execution_count": null,
   "id": "063d97c6",
   "metadata": {},
   "outputs": [],
   "source": [
    "request = {\n",
    "    \"class\": \"d1\",\n",
    "    \"dataset\": \"on-demand-extremes-dt\",\n",
    "    \"stream\": \"oper\",\n",
    "    \"type\": \"fc\",\n",
    "    \"date\": \"20250926\",\n",
    "    \"time\": \"0000\",\n",
    "    \"levtype\": \"sfc\",\n",
    "    \"expver\": \"0099\",\n",
    "    \"param\": \"167\",\n",
    "    \"step\": \"1/to/9\",\n",
    "    \"feature\": {\n",
    "        \"type\": \"polygon\",\n",
    "        \"shape\": shapes,\n",
    "    },\n",
    "}\n"
   ]
  },
  {
   "cell_type": "code",
   "execution_count": null,
   "id": "354d75d9",
   "metadata": {},
   "outputs": [],
   "source": [
    "data = earthkit.data.from_source(\"polytope\", \"destination-earth\", request,\n",
    "                               stream=False,\n",
    "                               address=\"polytope-test.lumi.apps.dte.destination-earth.eu\",\n",
    "                               )"
   ]
  },
  {
   "cell_type": "code",
   "execution_count": null,
   "id": "ee45f765",
   "metadata": {},
   "outputs": [],
   "source": [
    "ds = data.to_xarray()\n",
    "\n",
    "ds"
   ]
  },
  {
   "cell_type": "code",
   "execution_count": null,
   "id": "59b02501",
   "metadata": {},
   "outputs": [],
   "source": [
    "data_single_step = ds.sel(steps=0, method=\"nearest\")\n",
    "\n",
    "data_single_step"
   ]
  },
  {
   "cell_type": "code",
   "execution_count": null,
   "id": "aefbf1af",
   "metadata": {},
   "outputs": [],
   "source": [
    "import earthkit.plots\n",
    "chart = earthkit.plots.Map(domain=\"Ireland\")\n",
    "chart.point_cloud(\n",
    "    data_single_step['2t'],\n",
    "    x=\"longitude\",\n",
    "    y=\"latitude\",\n",
    ")\n",
    "chart.title(f\"Results from on-demand-extremes-dt\")\n",
    "chart.coastlines()\n",
    "chart.gridlines()\n",
    "chart.legend()\n",
    "chart.show()"
   ]
  }
 ],
 "metadata": {
  "kernelspec": {
   "display_name": ".venv",
   "language": "python",
   "name": "python3"
  },
  "language_info": {
   "codemirror_mode": {
    "name": "ipython",
    "version": 3
   },
   "file_extension": ".py",
   "mimetype": "text/x-python",
   "name": "python",
   "nbconvert_exporter": "python",
   "pygments_lexer": "ipython3",
   "version": "3.13.5"
  }
 },
 "nbformat": 4,
 "nbformat_minor": 5
}
