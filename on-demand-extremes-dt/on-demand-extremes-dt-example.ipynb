{
 "cells": [
  {
   "cell_type": "markdown",
   "id": "29764942-98ab-4795-89ef-e25f5682d9f1",
   "metadata": {},
   "source": [
    "## Polytope On-Demand Extremes-DT example notebook\n",
    "\n",
    "This notebook shows how to use earthkit-data and earthkit-plots to pull destination-earth data from LUMI and plot it using earthkit-plots.\n",
    "\n",
    "Before running the notebook you need to set up your credentials. See the main readme of this repository for different ways to do this or use the following cells to authenticate.\n",
    "\n",
    "You will need to generate your credentials using the desp-authentication.py script.\n",
    "\n",
    "This can be run as follows:"
   ]
  },
  {
   "cell_type": "code",
   "execution_count": 5,
   "id": "690284b8-914f-4615-9f10-d64bc0a41dfe",
   "metadata": {
    "tags": [
     "skip-execution"
    ]
   },
   "outputs": [
    
   ],
   "source": [
    "%%capture cap\n",
    "%run ../desp-authentication.py"
   ]
  },
  {
   "cell_type": "markdown",
   "id": "5ac38420-9c94-464f-990a-bf8166004218",
   "metadata": {},
   "source": [
    "This will generate a token that can then be used by earthkit and polytope."
   ]
  },
  {
   "cell_type": "code",
   "execution_count": 6,
   "id": "e630bb95",
   "metadata": {
    "tags": [
     "skip-execution"
    ]
   },
   "outputs": [],
   "source": [
    "output_1 = cap.stdout.split('}\\n')\n",
    "access_token = output_1[-1][0:-1]"
   ]
  },
  {
   "cell_type": "code",
   "execution_count": 7,
   "id": "6e8a0075",
   "metadata": {},
   "outputs": [],
   "source": [
    "import earthkit.data\n",
    "import earthkit.plots\n",
    "from polytope.api import Client"
   ]
  },
  {
   "cell_type": "markdown",
   "id": "8a381baf-dc7a-4a6e-bb35-80326915a00f",
   "metadata": {},
   "source": [
    "## Data request\n",
    "\n",
    "As for the global Extremes-DT output data is requested using the MARS language. The big difference here is that we have a new domain for every run which is done through the `georef` key, see below."
   ]
  },
  {
   "cell_type": "code",
   "execution_count": 8,
   "id": "03aefa59-f0c9-4fdd-9e09-54de92e2ead6",
   "metadata": {
    "tags": [
     "skip-execution",
     "skip-outputs"
    ]
   },
   "outputs": [
       ],
   "source": [
    "client = Client(\n",
    "    address=\"polytope.lumi.apps.dte.destination-earth.eu\")\n",
    "\n",
    "request = {\n",
    "    'class': 'd1',\n",
    "    'dataset': 'on-demand-extremes-dt',\n",
    "    'expver': '0099',\n",
    "    'stream': 'oper',\n",
    "    'date': '20250616',\n",
    "    'time': 0,\n",
    "    'type': 'fc',\n",
    "    'levtype': 'sfc',\n",
    "    'georef': 'u4usq2',\n",
    "    'step': 12,\n",
    "    'param': 167\n",
    "}\n",
    "\n",
    "file = client.retrieve(\"destination-earth\", request, \"data/on-demands-extreme-dt-example.grib\") \n",
    "\n",
    "# data = earthkit.data.from_source(\"polytope\", \"destination-earth\", request, address=\"polytope.lumi.apps.dte.destination-earth.eu\", stream=False)"
   ]
  },
  {
   "cell_type": "code",
   "execution_count": 9,
   "id": "189c84be",
   "metadata": {},
   "outputs": [],
   "source": [
    "data = earthkit.data.from_source(\"file\", \"data/on-demands-extreme-dt-example.grib\") "
   ]
  },
  {
   "cell_type": "markdown",
   "id": "70d0aa02-1b4c-44da-82b7-2a01a08eceed",
   "metadata": {},
   "source": [
    "## Data inspection\n",
    "\n",
    "We can list the data using the `ls` method. Here we see e.g. that we run the model in the `lambert_lam` projection."
   ]
  },
  {
   "cell_type": "code",
   "execution_count": 10,
   "id": "7a7e64d1-5a17-4b59-bd51-e10df5efd031",
   "metadata": {},
   "outputs": [
    {
     "data": {
      "text/html": [
       "<div>\n",
       "<style scoped>\n",
       "    .dataframe tbody tr th:only-of-type {\n",
       "        vertical-align: middle;\n",
       "    }\n",
       "\n",
       "    .dataframe tbody tr th {\n",
       "        vertical-align: top;\n",
       "    }\n",
       "\n",
       "    .dataframe thead th {\n",
       "        text-align: right;\n",
       "    }\n",
       "</style>\n",
       "<table border=\"1\" class=\"dataframe\">\n",
       "  <thead>\n",
       "    <tr style=\"text-align: right;\">\n",
       "      <th></th>\n",
       "      <th>centre</th>\n",
       "      <th>shortName</th>\n",
       "      <th>typeOfLevel</th>\n",
       "      <th>level</th>\n",
       "      <th>dataDate</th>\n",
       "      <th>dataTime</th>\n",
       "      <th>stepRange</th>\n",
       "      <th>dataType</th>\n",
       "      <th>number</th>\n",
       "      <th>gridType</th>\n",
       "    </tr>\n",
       "  </thead>\n",
       "  <tbody>\n",
       "    <tr>\n",
       "      <th>0</th>\n",
       "      <td>ecmf</td>\n",
       "      <td>2t</td>\n",
       "      <td>heightAboveGround</td>\n",
       "      <td>2</td>\n",
       "      <td>20250616</td>\n",
       "      <td>0</td>\n",
       "      <td>12</td>\n",
       "      <td>fc</td>\n",
       "      <td>None</td>\n",
       "      <td>lambert_lam</td>\n",
       "    </tr>\n",
       "  </tbody>\n",
       "</table>\n",
       "</div>"
      ],
      "text/plain": [
       "  centre shortName        typeOfLevel  level  dataDate  dataTime stepRange  \\\n",
       "0   ecmf        2t  heightAboveGround      2  20250616         0        12   \n",
       "\n",
       "  dataType number     gridType  \n",
       "0       fc   None  lambert_lam  "
      ]
     },
     "execution_count": 10,
     "metadata": {},
     "output_type": "execute_result"
    }
   ],
   "source": [
    "data.ls()"
   ]
  },
  {
   "cell_type": "markdown",
   "id": "753f77eb-2f80-46b1-a3a5-ef531c96a1bc",
   "metadata": {},
   "source": [
    "## Plotting\n",
    "\n",
    "Finally we create plot of the data retrieved using earthkit-plots."
   ]
  },
  {
   "cell_type": "code",
   "execution_count": 11,
   "id": "51d059a1",
   "metadata": {
    "tags": [
     "check-image"
    ]
   },
   "outputs": [
     ],
 "metadata": {
  "kernelspec": {
   "display_name": "earthkit_11",
   "language": "python",
   "name": "python3"
  },
  "language_info": {
   "codemirror_mode": {
    "name": "ipython",
    "version": 3
   },
   "file_extension": ".py",
   "mimetype": "text/x-python",
   "name": "python",
   "nbconvert_exporter": "python",
   "pygments_lexer": "ipython3",
   "version": "3.13.5"
  }
 },
 "nbformat": 4,
 "nbformat_minor": 5
}
